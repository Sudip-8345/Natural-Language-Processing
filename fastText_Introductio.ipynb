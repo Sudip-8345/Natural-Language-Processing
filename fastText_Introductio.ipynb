{
  "nbformat": 4,
  "nbformat_minor": 0,
  "metadata": {
    "colab": {
      "provenance": []
    },
    "kernelspec": {
      "name": "python3",
      "display_name": "Python 3"
    },
    "language_info": {
      "name": "python"
    }
  },
  "cells": [
    {
      "cell_type": "code",
      "execution_count": 1,
      "metadata": {
        "id": "oWzs4mdZmkrs"
      },
      "outputs": [],
      "source": [
        "!wget -q https://dl.fbaipublicfiles.com/fasttext/vectors-crawl/cc.en.300.bin.gz\n"
      ]
    },
    {
      "cell_type": "code",
      "source": [
        "!gunzip cc.en.300.bin.gz"
      ],
      "metadata": {
        "id": "9zvpzA6dpSNw"
      },
      "execution_count": 2,
      "outputs": []
    },
    {
      "cell_type": "code",
      "source": [
        "!pip install fasttext"
      ],
      "metadata": {
        "colab": {
          "base_uri": "https://localhost:8080/"
        },
        "id": "9oC1AwJJpn0F",
        "outputId": "879e8813-238b-4496-c7bf-69c4de69d3c1"
      },
      "execution_count": 3,
      "outputs": [
        {
          "output_type": "stream",
          "name": "stdout",
          "text": [
            "Collecting fasttext\n",
            "  Downloading fasttext-0.9.3.tar.gz (73 kB)\n",
            "\u001b[?25l     \u001b[90m━━━━━━━━━━━━━━━━━━━━━━━━━━━━━━━━━━━━━━━━\u001b[0m \u001b[32m0.0/73.4 kB\u001b[0m \u001b[31m?\u001b[0m eta \u001b[36m-:--:--\u001b[0m\r\u001b[2K     \u001b[90m━━━━━━━━━━━━━━━━━━━━━━━━━━━━━━━━━━━━━━━━\u001b[0m \u001b[32m73.4/73.4 kB\u001b[0m \u001b[31m2.9 MB/s\u001b[0m eta \u001b[36m0:00:00\u001b[0m\n",
            "\u001b[?25h  Installing build dependencies ... \u001b[?25l\u001b[?25hdone\n",
            "  Getting requirements to build wheel ... \u001b[?25l\u001b[?25hdone\n",
            "  Preparing metadata (pyproject.toml) ... \u001b[?25l\u001b[?25hdone\n",
            "Collecting pybind11>=2.2 (from fasttext)\n",
            "  Using cached pybind11-2.13.6-py3-none-any.whl.metadata (9.5 kB)\n",
            "Requirement already satisfied: setuptools>=0.7.0 in /usr/local/lib/python3.11/dist-packages (from fasttext) (75.2.0)\n",
            "Requirement already satisfied: numpy in /usr/local/lib/python3.11/dist-packages (from fasttext) (2.0.2)\n",
            "Using cached pybind11-2.13.6-py3-none-any.whl (243 kB)\n",
            "Building wheels for collected packages: fasttext\n",
            "  Building wheel for fasttext (pyproject.toml) ... \u001b[?25l\u001b[?25hdone\n",
            "  Created wheel for fasttext: filename=fasttext-0.9.3-cp311-cp311-linux_x86_64.whl size=4313500 sha256=e0bbcf1aa1075b4f550b18af88dba80a60dd33f774c277e4577658505afb025c\n",
            "  Stored in directory: /root/.cache/pip/wheels/65/4f/35/5057db0249224e9ab55a513fa6b79451473ceb7713017823c3\n",
            "Successfully built fasttext\n",
            "Installing collected packages: pybind11, fasttext\n",
            "Successfully installed fasttext-0.9.3 pybind11-2.13.6\n"
          ]
        }
      ]
    },
    {
      "cell_type": "code",
      "source": [
        "import fasttext\n",
        "\n",
        "model_en = fasttext.load_model('/content/cc.en.300.bin')\n"
      ],
      "metadata": {
        "id": "sb58wfM9pdcB"
      },
      "execution_count": 4,
      "outputs": []
    },
    {
      "cell_type": "code",
      "source": [
        "model_en.get_nearest_neighbors('potatoe')"
      ],
      "metadata": {
        "colab": {
          "base_uri": "https://localhost:8080/"
        },
        "id": "xAQD-J0Lpreq",
        "outputId": "fef3381f-0ad1-48d1-e2a6-964e5f00e7b4"
      },
      "execution_count": 6,
      "outputs": [
        {
          "output_type": "execute_result",
          "data": {
            "text/plain": [
              "[(0.8573684096336365, 'potato'),\n",
              " (0.8133847117424011, 'potatos'),\n",
              " (0.7830819487571716, 'patato'),\n",
              " (0.7363563776016235, 'potatoes'),\n",
              " (0.7220737934112549, 'patatoes'),\n",
              " (0.7169479727745056, 'potato.'),\n",
              " (0.700210690498352, 'potaotes'),\n",
              " (0.6924129128456116, 'potaoes'),\n",
              " (0.6898174285888672, 'potato-'),\n",
              " (0.6790924668312073, 'Potatoe')]"
            ]
          },
          "metadata": {},
          "execution_count": 6
        }
      ]
    },
    {
      "cell_type": "code",
      "source": [
        "model_en.get_word_vector('potato')"
      ],
      "metadata": {
        "colab": {
          "base_uri": "https://localhost:8080/"
        },
        "id": "VMFqwJpdpxlz",
        "outputId": "3243ddc9-b2a8-46c6-ca56-5dbe0de4d0f2"
      },
      "execution_count": 7,
      "outputs": [
        {
          "output_type": "execute_result",
          "data": {
            "text/plain": [
              "array([ 0.09395188, -0.01045073,  0.01958102,  0.12140027,  0.03565916,\n",
              "        0.01302083,  0.12383161, -0.03811118,  0.03998065,  0.00699342,\n",
              "        0.1050249 ,  0.01782303,  0.01440203,  0.03672326,  0.14407134,\n",
              "        0.0919264 ,  0.01637459,  0.01795871,  0.00420837,  0.03357067,\n",
              "        0.00179769,  0.06859808, -0.05934937,  0.08516306,  0.00858416,\n",
              "       -0.03690514,  0.0061392 ,  0.0021335 ,  0.0062045 ,  0.10627468,\n",
              "        0.06905751,  0.10239805, -0.06012145,  0.0463773 ,  0.01059605,\n",
              "        0.06343219,  0.01289768,  0.0533683 , -0.08161157, -0.01308683,\n",
              "       -0.10429293, -0.09969931, -0.01485899,  0.02286177, -0.15409471,\n",
              "        0.06161299,  0.02657098,  0.04268916,  0.00108527, -0.0268914 ,\n",
              "       -0.00414465, -0.08433179, -0.1362577 , -0.01741417, -0.07249611,\n",
              "        0.13559918, -0.00357935, -0.05069193, -0.02319654,  0.00264118,\n",
              "       -0.00525457,  0.03316679,  0.00346801, -0.01531377, -0.02402114,\n",
              "       -0.06721201,  0.02532847,  0.01715052,  0.02007303,  0.02151947,\n",
              "        0.06434792, -0.02379703, -0.06418961, -0.03519864,  0.03433284,\n",
              "       -0.00482036, -0.06985092,  0.08874325,  0.00470853, -0.08611444,\n",
              "       -0.01704285, -0.10599645, -0.07781134, -0.03108942, -0.03669816,\n",
              "       -0.09370638,  0.03295658,  0.06494172, -0.12551086,  0.0043608 ,\n",
              "       -0.07758982, -0.0373695 ,  0.01059522, -0.01847101,  0.01050049,\n",
              "        0.01881266,  0.04953172,  0.00306088, -0.02022916, -0.06042751,\n",
              "        0.02469695, -0.09463602, -0.05336555, -0.03020049,  0.07167514,\n",
              "        0.00375701, -0.06276987, -0.07422765, -0.05241659, -0.07855844,\n",
              "       -0.03784701,  0.03484404,  0.09402048,  0.01719748, -0.02248774,\n",
              "       -0.00628214,  0.01093556, -0.0195884 , -0.08931699, -0.07394313,\n",
              "        0.04128218,  0.11072123, -0.06562858,  0.10845121,  0.04564413,\n",
              "        0.00057857,  0.07761108,  0.15575998, -0.00897912, -0.11222523,\n",
              "        0.00720388,  0.00297103, -0.10941362, -0.07442949, -0.05055994,\n",
              "       -0.0405896 ,  0.14320242, -0.04987647,  0.11685004, -0.06881814,\n",
              "       -0.05984525, -0.01013978,  0.05044996,  0.0573939 , -0.09364039,\n",
              "       -0.07285605, -0.09188652,  0.04438713,  0.0552725 ,  0.14736037,\n",
              "       -0.07227763,  0.04045383, -0.00880709,  0.02054391, -0.08048338,\n",
              "       -0.02754464,  0.02714039, -0.01761762,  0.06823513,  0.08907302,\n",
              "       -0.05036507,  0.02129333,  0.10999592,  0.01284618, -0.07980603,\n",
              "       -0.00223737,  0.05344217,  0.01950726, -0.05159574,  0.07217608,\n",
              "        0.01797327,  0.03365327, -0.01143186, -0.03429364,  0.08956419,\n",
              "       -0.02840288, -0.0077526 , -0.01978818,  0.05074964, -0.08036743,\n",
              "       -0.01054832, -0.06081322,  0.02610295, -0.08710506, -0.00967776,\n",
              "       -0.06896713,  0.15333897, -0.04447593,  0.07688799, -0.12729664,\n",
              "       -0.05984628,  0.02563095, -0.0337362 , -0.13147058, -0.05783218,\n",
              "        0.06051209,  0.03925707, -0.04436749, -0.11640837, -0.00603994,\n",
              "        0.05703924,  0.01355815,  0.06017869,  0.0390169 ,  0.00758616,\n",
              "        0.03566916,  0.01119331, -0.11539219,  0.06610337,  0.06426983,\n",
              "       -0.0640399 ,  0.0225139 ,  0.02464743, -0.00373652, -0.09562498,\n",
              "       -0.01504466, -0.12876658, -0.0632052 ,  0.02599666, -0.00497044,\n",
              "        0.0434529 ,  0.01862603,  0.05351413,  0.08409035, -0.08139225,\n",
              "       -0.01896254, -0.02426103,  0.07227085, -0.10855336, -0.01948793,\n",
              "       -0.09472807, -0.01113016,  0.03938302,  0.04344646, -0.01166669,\n",
              "        0.01968903,  0.01456133, -0.06827676,  0.01198149,  0.08809868,\n",
              "        0.05524149, -0.0639544 , -0.11334614, -0.04788959,  0.1286317 ,\n",
              "       -0.03421083,  0.0029453 , -0.00072749, -0.06677669,  0.04907915,\n",
              "        0.07342888, -0.02134671, -0.07486348,  0.05707057,  0.05575169,\n",
              "        0.00118876,  0.01930843, -0.02977856, -0.08390801,  0.0729522 ,\n",
              "        0.00562766, -0.01958883,  0.01838972, -0.10227633, -0.04932392,\n",
              "        0.05424222,  0.03801739,  0.11108392,  0.0047087 ,  0.06896683,\n",
              "       -0.07538348, -0.03541899, -0.12591073,  0.01246509, -0.03696994,\n",
              "        0.08052792, -0.07349344, -0.00371024,  0.01323609, -0.08626246,\n",
              "        0.04122959, -0.05994323, -0.01723959, -0.11323303, -0.06092503,\n",
              "       -0.00760793, -0.02812566,  0.01894399,  0.02052392,  0.0929154 ,\n",
              "       -0.03906469, -0.14108041, -0.06610487,  0.00659093, -0.02957927,\n",
              "        0.01012994,  0.04898439,  0.1877583 ,  0.01943333,  0.00258998],\n",
              "      dtype=float32)"
            ]
          },
          "metadata": {},
          "execution_count": 7
        }
      ]
    },
    {
      "cell_type": "code",
      "source": [
        "model_en.get_word_vector('potato').shape"
      ],
      "metadata": {
        "colab": {
          "base_uri": "https://localhost:8080/"
        },
        "id": "AR-6xbFaqzha",
        "outputId": "70176878-fcda-4974-d6f4-c0a1ea7f5b82"
      },
      "execution_count": 8,
      "outputs": [
        {
          "output_type": "execute_result",
          "data": {
            "text/plain": [
              "(300,)"
            ]
          },
          "metadata": {},
          "execution_count": 8
        }
      ]
    },
    {
      "cell_type": "code",
      "source": [
        "model_en.get_analogies('5','10','30')"
      ],
      "metadata": {
        "colab": {
          "base_uri": "https://localhost:8080/"
        },
        "id": "t-lydZETq4lv",
        "outputId": "ce8027d7-eba6-4bb2-df6f-37448dbd508b"
      },
      "execution_count": 11,
      "outputs": [
        {
          "output_type": "execute_result",
          "data": {
            "text/plain": [
              "[(0.9092742800712585, '6'),\n",
              " (0.8924931883811951, '4'),\n",
              " (0.8833125829696655, '3'),\n",
              " (0.8806938529014587, '15'),\n",
              " (0.8745890259742737, '7'),\n",
              " (0.872882604598999, '8'),\n",
              " (0.8661499619483948, '25'),\n",
              " (0.8649685382843018, '20'),\n",
              " (0.8579835891723633, '2'),\n",
              " (0.8565531373023987, '28')]"
            ]
          },
          "metadata": {},
          "execution_count": 11
        }
      ]
    },
    {
      "cell_type": "code",
      "source": [
        "model_en.get_analogies('chatgpt','america','deepseek')"
      ],
      "metadata": {
        "colab": {
          "base_uri": "https://localhost:8080/"
        },
        "id": "0DJhAlkZq9Dx",
        "outputId": "db782311-9a91-4c1e-8ebd-4da651bf6e96"
      },
      "execution_count": 17,
      "outputs": [
        {
          "output_type": "execute_result",
          "data": {
            "text/plain": [
              "[(0.4144393801689148, 'soon.OkSitemapCareersContact'),\n",
              " (0.39931946992874146,\n",
              "  'LISTINDIAWORLDPHOTOSVIDEOSCRICKETMOVIESAUTOSPORTSLIFESTYLETECHEDUCATIONBUSINESSNews'),\n",
              " (0.3896559774875641,\n",
              "  'SpotlightContactPeopleCareersContestsEEOTermsPrivacyCopyrightWatch'),\n",
              " (0.3865238428115845,\n",
              "  'ContactPeopleCareersContestsEEOTermsPrivacyCopyrightCircaLocalNation'),\n",
              " (0.38312605023384094,\n",
              "  'DEky4M0BSpUOTPnSpkuL5I0GTSnRI4jMepcaFAoxIoFnX5kmJQk1aYvr2odGBAAIfkECQoABAAsCQAAABAAEgAACGcAARAYSLCgQQEABBokkFAhAQEQHQ4EMKCiQogRCVKsOOAiRocbLQ7EmJEhR4cfEWoUOTFhRIUNE44kGZOjSIQfG9rsyDCnzp0AaMYMyfNjS6JFZWpEKlDiUqALJ0KNatKmU4NDBwYEACH5BAUKAAQALAkAAAAQABIAAAhpAAEQGEiQIICDBAUgLEgAwICHAgkImBhxoMOHAyJOpGgQY8aBGxV2hJgwZMWLFTcCUIjwoEuLBym69PgxJMuDNAUqVDkz50qZLi'),\n",
              " (0.3791784644126892,\n",
              "  'DEky4M0BSpUOTPnSpkuL5I0GTSnRI4jMepcaFAoxIoFnX5kmJQk1aYvr2odGBAAIfkECQoABAAsCQAAABAAEgAACGcAARAYSLCgQQEABBokkFAhAQEQHQ4EMKCiQogRCVKsOOAiRocbLQ7EmJEhR4cfEWoUOTFhRIUNE44kGZOjSIQfG9rsyDCnzp0AaMYMyfNjS6JFZWpEKlDiUqALJ0KNatKmU4NDBwYEACH5BAkKAAQALAkAAAAQABIAAAhpAAEQGEiQIICDBAUgLEgAwICHAgkImBhxoMOHAyJOpGgQY8aBGxV2hJgwZMWLFTcCUIjwoEuLBym69PgxJMuDNAUqVDkz50qZLi'),\n",
              " (0.3772667348384857,\n",
              "  'midnight1.00am2.00am3.00am4.00am5.00am6.00am7.00am8.00am9.00am10.00am11.00am12'),\n",
              " (0.37651994824409485,\n",
              "  'Zocdoc.comZocdocAboutPressCareersContactAnswersFAQBlogDoctor'),\n",
              " (0.3749791383743286,\n",
              "  'SpotlightContactPeopleCareersContestsEEOTermsPrivacyCopyrightLocalNation'),\n",
              " (0.37491393089294434,\n",
              "  'CrônicasEsdrasNeemiasEsterJóSalmosProvérbiosEclesiastesCânticosIsaíasJeremiasLamentaçõesEzequielDanielOséiasJoelAmósObadiasJonasMiquéiasNaumHabacuqueSofoniasAgeuZacariasMalaquiasNovo')]"
            ]
          },
          "metadata": {},
          "execution_count": 17
        }
      ]
    },
    {
      "cell_type": "code",
      "source": [
        "model_en.get_analogies('amazon','brazil','India')"
      ],
      "metadata": {
        "colab": {
          "base_uri": "https://localhost:8080/"
        },
        "id": "67YknXslrwjn",
        "outputId": "88c83a76-2d9e-4b4c-f37c-c85758c128a2"
      },
      "execution_count": 22,
      "outputs": [
        {
          "output_type": "execute_result",
          "data": {
            "text/plain": [
              "[(0.5856150984764099, 'Amazon'),\n",
              " (0.5810126662254333, 'Flipkart.com'),\n",
              " (0.5785599946975708, 'Flipkart'),\n",
              " (0.5498786568641663, 'Junglee.com'),\n",
              " (0.5424302220344543, 'Indiaplaza'),\n",
              " (0.5350918769836426, 'amazon.in'),\n",
              " (0.5176374912261963, 'Infibeam'),\n",
              " (0.5117581486701965, 'FlipKart'),\n",
              " (0.510744571685791, 'Flipkart.com.'),\n",
              " (0.5003927946090698, 'ebay.in')]"
            ]
          },
          "metadata": {},
          "execution_count": 22
        }
      ]
    },
    {
      "cell_type": "code",
      "source": [
        "model_en.get_analogies('driving','car','book')"
      ],
      "metadata": {
        "colab": {
          "base_uri": "https://localhost:8080/"
        },
        "id": "B5Q7ANjLsf-W",
        "outputId": "271a4b47-14b5-43f7-d60e-18fe4cfc9774"
      },
      "execution_count": 24,
      "outputs": [
        {
          "output_type": "execute_result",
          "data": {
            "text/plain": [
              "[(0.5302355885505676, 'reading'),\n",
              " (0.517051637172699, 'book.I'),\n",
              " (0.5137901306152344, 'book--and'),\n",
              " (0.5090512633323669, 'book.That'),\n",
              " (0.5005884766578674, 'book--it'),\n",
              " (0.49395182728767395, 'book--I'),\n",
              " (0.49293914437294006, 're-reading'),\n",
              " (0.49156999588012695, 'book.This'),\n",
              " (0.49107635021209717, 'reading--and'),\n",
              " (0.48960915207862854, 'book--the')]"
            ]
          },
          "metadata": {},
          "execution_count": 24
        }
      ]
    },
    {
      "cell_type": "code",
      "source": [
        "model_en.get_nearest_neighbors('chutney')"
      ],
      "metadata": {
        "colab": {
          "base_uri": "https://localhost:8080/"
        },
        "id": "GSxEp2t6tA_m",
        "outputId": "8c1fdcde-1752-4403-9d5e-cb850070c4ec"
      },
      "execution_count": 25,
      "outputs": [
        {
          "output_type": "execute_result",
          "data": {
            "text/plain": [
              "[(0.8078702092170715, 'chutneys'),\n",
              " (0.7138292789459229, 'thokku'),\n",
              " (0.701572060585022, 'Chutney'),\n",
              " (0.6875490546226501, 'achaar'),\n",
              " (0.684525728225708, 'piccalilli'),\n",
              " (0.6737173199653625, 'raita'),\n",
              " (0.6715506911277771, 'chatni'),\n",
              " (0.6610829830169678, 'chutney.'),\n",
              " (0.6505922675132751, 'gojju'),\n",
              " (0.6398508548736572, 'kasundi')]"
            ]
          },
          "metadata": {},
          "execution_count": 25
        }
      ]
    },
    {
      "cell_type": "code",
      "source": [
        "model_en.get_sentence_vector('I am a good boy')"
      ],
      "metadata": {
        "colab": {
          "base_uri": "https://localhost:8080/"
        },
        "id": "F-TVwmbXEt-b",
        "outputId": "8f2406aa-4184-4a08-cba4-5a749706f82b"
      },
      "execution_count": 26,
      "outputs": [
        {
          "output_type": "execute_result",
          "data": {
            "text/plain": [
              "array([ 0.01894495, -0.0539909 ,  0.00035301,  0.02562128, -0.0105479 ,\n",
              "       -0.0337903 ,  0.01619986,  0.01283676,  0.00822406, -0.00110534,\n",
              "       -0.04810024, -0.01222039, -0.00694835,  0.00429559, -0.01600622,\n",
              "        0.0853411 , -0.00325168, -0.00602606, -0.04584726,  0.02192847,\n",
              "        0.02271272,  0.04462923,  0.00102568, -0.02219313,  0.02184826,\n",
              "       -0.04315032,  0.00052459, -0.00410754,  0.01767597,  0.10816099,\n",
              "        0.00629112, -0.02811135, -0.02236932,  0.02965888,  0.0096288 ,\n",
              "        0.00685842,  0.04456203, -0.05818611,  0.00316622, -0.03341589,\n",
              "       -0.01551067,  0.03526638, -0.0181418 ,  0.07028125,  0.01595439,\n",
              "        0.02356533,  0.004681  ,  0.02685358, -0.03276695, -0.00281979,\n",
              "       -0.01844678,  0.01960498, -0.02999629,  0.01829632, -0.01811887,\n",
              "        0.02320685,  0.00388997, -0.02455425, -0.05914793,  0.02369801,\n",
              "       -0.01744553, -0.00215258, -0.00884546, -0.0559397 , -0.01894296,\n",
              "       -0.00097618, -0.02376665, -0.00199283,  0.00632101, -0.01850386,\n",
              "       -0.00380319, -0.00671211, -0.01466664, -0.01519039, -0.01462867,\n",
              "       -0.04085496,  0.03876114, -0.00775623,  0.02020215,  0.01962747,\n",
              "       -0.00942126, -0.03242379,  0.00059638,  0.01533506,  0.03263108,\n",
              "       -0.01357417,  0.02026943,  0.01504039,  0.04755193,  0.0207744 ,\n",
              "       -0.02075308,  0.00781499,  0.11242794, -0.00708736, -0.03523246,\n",
              "        0.0137405 , -0.0285641 ,  0.04849253, -0.00139697, -0.00869721,\n",
              "        0.01659528,  0.02466233, -0.01016265, -0.05725601, -0.00368128,\n",
              "        0.0090899 ,  0.01282911,  0.02366339, -0.02054678, -0.01454385,\n",
              "        0.00431893,  0.01989925, -0.00869138,  0.01205365,  0.01498413,\n",
              "       -0.00835591, -0.02150933,  0.04687218, -0.00297314,  0.01650536,\n",
              "        0.03575739,  0.04466091, -0.0033574 ,  0.01850509,  0.00984438,\n",
              "        0.06279945, -0.00060753,  0.02346981, -0.00210284, -0.00692941,\n",
              "       -0.00547337,  0.00037135,  0.01039845, -0.00117671,  0.01591863,\n",
              "       -0.04793355, -0.04579251,  0.0397873 , -0.00221492, -0.00586246,\n",
              "       -0.02240208,  0.00140473, -0.0157458 ,  0.00094884,  0.00157782,\n",
              "        0.01075477, -0.1996557 , -0.03700605,  0.01329244,  0.02108923,\n",
              "       -0.08683877, -0.01287612, -0.06834463, -0.00333825, -0.01612521,\n",
              "        0.01340301,  0.05925754, -0.01662427,  0.02611398,  0.04241266,\n",
              "        0.00890694, -0.00177353,  0.02268619, -0.01781066,  0.00203231,\n",
              "       -0.01494487,  0.00147128, -0.0068457 ,  0.04457001, -0.00286894,\n",
              "       -0.00972342, -0.01960157, -0.00862582,  0.00515448,  0.01336697,\n",
              "       -0.04197698,  0.02402047, -0.04094156,  0.01817499,  0.01724067,\n",
              "        0.02120966,  0.08523426, -0.02928777,  0.03202377,  0.00554314,\n",
              "        0.0680394 ,  0.05414917, -0.00861363, -0.02349787, -0.00363434,\n",
              "       -0.00318486,  0.00350843,  0.02736468, -0.0516055 ,  0.00477312,\n",
              "       -0.03705712, -0.05745086, -0.01117784,  0.00854035,  0.05021744,\n",
              "       -0.02665903,  0.1093915 , -0.00168236, -0.0188306 , -0.0074153 ,\n",
              "        0.024946  ,  0.05494457, -0.04560847, -0.0218788 ,  0.02753463,\n",
              "        0.04607967,  0.00948877, -0.06634267,  0.01137597,  0.00263061,\n",
              "        0.00375907,  0.01159252, -0.00436513,  0.01225279,  0.0277326 ,\n",
              "        0.023723  ,  0.0304393 ,  0.01925529,  0.04312572,  0.01333472,\n",
              "       -0.0720764 , -0.0033911 , -0.01587707, -0.00379355, -0.00811454,\n",
              "       -0.005448  ,  0.03113881,  0.03085243, -0.04696445,  0.01766907,\n",
              "        0.01837263, -0.00414864,  0.01191087, -0.01093232, -0.02974272,\n",
              "        0.00349044, -0.06033894,  0.00803391, -0.04396622,  0.25283825,\n",
              "       -0.00387484, -0.02182007,  0.03015112, -0.01692805,  0.02256497,\n",
              "        0.03836101, -0.01782093, -0.0210941 , -0.02133696,  0.00062513,\n",
              "        0.0474777 , -0.02721281, -0.00056265,  0.0177314 ,  0.05754593,\n",
              "       -0.018136  ,  0.0231561 ,  0.00685183,  0.01433344, -0.02394478,\n",
              "        0.01003651,  0.0006078 , -0.03693923, -0.00927233, -0.08165658,\n",
              "       -0.05295708, -0.01893133,  0.00527508,  0.06057272, -0.00409816,\n",
              "       -0.05524334, -0.0211089 ,  0.03193153, -0.01423999, -0.02449059,\n",
              "       -0.06157632, -0.00933209, -0.14883271, -0.0301476 ,  0.03533058,\n",
              "        0.01239419,  0.00500775, -0.06859142, -0.01216615,  0.00971895,\n",
              "        0.04976699, -0.01173951, -0.10133635,  0.03866304,  0.04361615,\n",
              "        0.02300055, -0.01016059,  0.11140201, -0.03053837, -0.01092241],\n",
              "      dtype=float32)"
            ]
          },
          "metadata": {},
          "execution_count": 26
        }
      ]
    },
    {
      "cell_type": "code",
      "source": [],
      "metadata": {
        "id": "hD1s4J3Tta2A"
      },
      "execution_count": null,
      "outputs": []
    }
  ]
}