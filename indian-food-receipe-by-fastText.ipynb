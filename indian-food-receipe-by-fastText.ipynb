{
 "cells": [
  {
   "cell_type": "code",
   "execution_count": 1,
   "id": "75a24d42",
   "metadata": {
    "_cell_guid": "b1076dfc-b9ad-4769-8c92-a6c4dae69d19",
    "_uuid": "8f2839f25d086af736a60e9eeb907d3b93b6e0e5",
    "execution": {
     "iopub.execute_input": "2025-05-31T14:44:59.531652Z",
     "iopub.status.busy": "2025-05-31T14:44:59.531332Z",
     "iopub.status.idle": "2025-05-31T14:45:01.628976Z",
     "shell.execute_reply": "2025-05-31T14:45:01.627812Z"
    },
    "papermill": {
     "duration": 2.103657,
     "end_time": "2025-05-31T14:45:01.630819",
     "exception": false,
     "start_time": "2025-05-31T14:44:59.527162",
     "status": "completed"
    },
    "tags": []
   },
   "outputs": [
    {
     "name": "stdout",
     "output_type": "stream",
     "text": [
      "/kaggle/input/cleaned-indian-recipes-dataset/Cleaned_Indian_Food_Dataset.csv\n"
     ]
    }
   ],
   "source": [
    "# This Python 3 environment comes with many helpful analytics libraries installed\n",
    "# It is defined by the kaggle/python Docker image: https://github.com/kaggle/docker-python\n",
    "# For example, here's several helpful packages to load\n",
    "\n",
    "import numpy as np # linear algebra\n",
    "import pandas as pd # data processing, CSV file I/O (e.g. pd.read_csv)\n",
    "\n",
    "# Input data files are available in the read-only \"../input/\" directory\n",
    "# For example, running this (by clicking run or pressing Shift+Enter) will list all files under the input directory\n",
    "\n",
    "import os\n",
    "for dirname, _, filenames in os.walk('/kaggle/input'):\n",
    "    for filename in filenames:\n",
    "        print(os.path.join(dirname, filename))\n",
    "\n",
    "# You can write up to 20GB to the current directory (/kaggle/working/) that gets preserved as output when you create a version using \"Save & Run All\" \n",
    "# You can also write temporary files to /kaggle/temp/, but they won't be saved outside of the current session"
   ]
  },
  {
   "cell_type": "code",
   "execution_count": 2,
   "id": "9c3541e4",
   "metadata": {
    "execution": {
     "iopub.execute_input": "2025-05-31T14:45:01.643190Z",
     "iopub.status.busy": "2025-05-31T14:45:01.641369Z",
     "iopub.status.idle": "2025-05-31T14:45:02.049624Z",
     "shell.execute_reply": "2025-05-31T14:45:02.048646Z"
    },
    "papermill": {
     "duration": 0.414455,
     "end_time": "2025-05-31T14:45:02.051186",
     "exception": false,
     "start_time": "2025-05-31T14:45:01.636731",
     "status": "completed"
    },
    "tags": []
   },
   "outputs": [
    {
     "name": "stdout",
     "output_type": "stream",
     "text": [
      "(5938, 9)\n"
     ]
    },
    {
     "data": {
      "text/html": [
       "<div>\n",
       "<style scoped>\n",
       "    .dataframe tbody tr th:only-of-type {\n",
       "        vertical-align: middle;\n",
       "    }\n",
       "\n",
       "    .dataframe tbody tr th {\n",
       "        vertical-align: top;\n",
       "    }\n",
       "\n",
       "    .dataframe thead th {\n",
       "        text-align: right;\n",
       "    }\n",
       "</style>\n",
       "<table border=\"1\" class=\"dataframe\">\n",
       "  <thead>\n",
       "    <tr style=\"text-align: right;\">\n",
       "      <th></th>\n",
       "      <th>TranslatedRecipeName</th>\n",
       "      <th>TranslatedIngredients</th>\n",
       "      <th>TotalTimeInMins</th>\n",
       "      <th>Cuisine</th>\n",
       "      <th>TranslatedInstructions</th>\n",
       "      <th>URL</th>\n",
       "      <th>Cleaned-Ingredients</th>\n",
       "      <th>image-url</th>\n",
       "      <th>Ingredient-count</th>\n",
       "    </tr>\n",
       "  </thead>\n",
       "  <tbody>\n",
       "    <tr>\n",
       "      <th>0</th>\n",
       "      <td>Masala Karela Recipe</td>\n",
       "      <td>1 tablespoon Red Chilli powder,3 tablespoon Gr...</td>\n",
       "      <td>45</td>\n",
       "      <td>Indian</td>\n",
       "      <td>To begin making the Masala Karela Recipe,de-se...</td>\n",
       "      <td>https://www.archanaskitchen.com/masala-karela-...</td>\n",
       "      <td>salt,amchur (dry mango powder),karela (bitter ...</td>\n",
       "      <td>https://www.archanaskitchen.com/images/archana...</td>\n",
       "      <td>10</td>\n",
       "    </tr>\n",
       "    <tr>\n",
       "      <th>1</th>\n",
       "      <td>Spicy Tomato Rice (Recipe)</td>\n",
       "      <td>2 teaspoon cashew - or peanuts, 1/2 Teaspoon ...</td>\n",
       "      <td>15</td>\n",
       "      <td>South Indian Recipes</td>\n",
       "      <td>To make tomato puliogere, first cut the tomato...</td>\n",
       "      <td>https://www.archanaskitchen.com/spicy-tomato-r...</td>\n",
       "      <td>tomato,salt,chickpea lentils,green chilli,rice...</td>\n",
       "      <td>https://www.archanaskitchen.com/images/archana...</td>\n",
       "      <td>12</td>\n",
       "    </tr>\n",
       "    <tr>\n",
       "      <th>2</th>\n",
       "      <td>Ragi Semiya Upma Recipe - Ragi Millet Vermicel...</td>\n",
       "      <td>1 Onion - sliced,1 teaspoon White Urad Dal (Sp...</td>\n",
       "      <td>50</td>\n",
       "      <td>South Indian Recipes</td>\n",
       "      <td>To begin making the Ragi Vermicelli Recipe, fi...</td>\n",
       "      <td>https://www.archanaskitchen.com/ragi-vermicell...</td>\n",
       "      <td>salt,rice vermicelli noodles (thin),asafoetida...</td>\n",
       "      <td>https://www.archanaskitchen.com/images/archana...</td>\n",
       "      <td>12</td>\n",
       "    </tr>\n",
       "    <tr>\n",
       "      <th>3</th>\n",
       "      <td>Gongura Chicken Curry Recipe - Andhra Style Go...</td>\n",
       "      <td>1/2 teaspoon Turmeric powder (Haldi),1 tablesp...</td>\n",
       "      <td>45</td>\n",
       "      <td>Andhra</td>\n",
       "      <td>To begin making Gongura Chicken Curry Recipe f...</td>\n",
       "      <td>https://www.archanaskitchen.com/gongura-chicke...</td>\n",
       "      <td>tomato,salt,ginger,sorrel leaves (gongura),fen...</td>\n",
       "      <td>https://www.archanaskitchen.com/images/archana...</td>\n",
       "      <td>15</td>\n",
       "    </tr>\n",
       "    <tr>\n",
       "      <th>4</th>\n",
       "      <td>Andhra Style Alam Pachadi Recipe - Adrak Chutn...</td>\n",
       "      <td>oil - as per use, 1 tablespoon coriander seed...</td>\n",
       "      <td>30</td>\n",
       "      <td>Andhra</td>\n",
       "      <td>To make Andhra Style Alam Pachadi, first heat ...</td>\n",
       "      <td>https://www.archanaskitchen.com/andhra-style-a...</td>\n",
       "      <td>tomato,salt,ginger,red chillies,curry,asafoeti...</td>\n",
       "      <td>https://www.archanaskitchen.com/images/archana...</td>\n",
       "      <td>12</td>\n",
       "    </tr>\n",
       "  </tbody>\n",
       "</table>\n",
       "</div>"
      ],
      "text/plain": [
       "                                TranslatedRecipeName  \\\n",
       "0                               Masala Karela Recipe   \n",
       "1                         Spicy Tomato Rice (Recipe)   \n",
       "2  Ragi Semiya Upma Recipe - Ragi Millet Vermicel...   \n",
       "3  Gongura Chicken Curry Recipe - Andhra Style Go...   \n",
       "4  Andhra Style Alam Pachadi Recipe - Adrak Chutn...   \n",
       "\n",
       "                               TranslatedIngredients  TotalTimeInMins  \\\n",
       "0  1 tablespoon Red Chilli powder,3 tablespoon Gr...               45   \n",
       "1   2 teaspoon cashew - or peanuts, 1/2 Teaspoon ...               15   \n",
       "2  1 Onion - sliced,1 teaspoon White Urad Dal (Sp...               50   \n",
       "3  1/2 teaspoon Turmeric powder (Haldi),1 tablesp...               45   \n",
       "4   oil - as per use, 1 tablespoon coriander seed...               30   \n",
       "\n",
       "                Cuisine                             TranslatedInstructions  \\\n",
       "0                Indian  To begin making the Masala Karela Recipe,de-se...   \n",
       "1  South Indian Recipes  To make tomato puliogere, first cut the tomato...   \n",
       "2  South Indian Recipes  To begin making the Ragi Vermicelli Recipe, fi...   \n",
       "3                Andhra  To begin making Gongura Chicken Curry Recipe f...   \n",
       "4                Andhra  To make Andhra Style Alam Pachadi, first heat ...   \n",
       "\n",
       "                                                 URL  \\\n",
       "0  https://www.archanaskitchen.com/masala-karela-...   \n",
       "1  https://www.archanaskitchen.com/spicy-tomato-r...   \n",
       "2  https://www.archanaskitchen.com/ragi-vermicell...   \n",
       "3  https://www.archanaskitchen.com/gongura-chicke...   \n",
       "4  https://www.archanaskitchen.com/andhra-style-a...   \n",
       "\n",
       "                                 Cleaned-Ingredients  \\\n",
       "0  salt,amchur (dry mango powder),karela (bitter ...   \n",
       "1  tomato,salt,chickpea lentils,green chilli,rice...   \n",
       "2  salt,rice vermicelli noodles (thin),asafoetida...   \n",
       "3  tomato,salt,ginger,sorrel leaves (gongura),fen...   \n",
       "4  tomato,salt,ginger,red chillies,curry,asafoeti...   \n",
       "\n",
       "                                           image-url  Ingredient-count  \n",
       "0  https://www.archanaskitchen.com/images/archana...                10  \n",
       "1  https://www.archanaskitchen.com/images/archana...                12  \n",
       "2  https://www.archanaskitchen.com/images/archana...                12  \n",
       "3  https://www.archanaskitchen.com/images/archana...                15  \n",
       "4  https://www.archanaskitchen.com/images/archana...                12  "
      ]
     },
     "execution_count": 2,
     "metadata": {},
     "output_type": "execute_result"
    }
   ],
   "source": [
    "df = pd.read_csv('/kaggle/input/cleaned-indian-recipes-dataset/Cleaned_Indian_Food_Dataset.csv')\n",
    "print(df.shape)\n",
    "df.head()"
   ]
  },
  {
   "cell_type": "code",
   "execution_count": 3,
   "id": "2bfda91f",
   "metadata": {
    "execution": {
     "iopub.execute_input": "2025-05-31T14:45:02.059440Z",
     "iopub.status.busy": "2025-05-31T14:45:02.059096Z",
     "iopub.status.idle": "2025-05-31T14:45:02.068181Z",
     "shell.execute_reply": "2025-05-31T14:45:02.066676Z"
    },
    "papermill": {
     "duration": 0.015142,
     "end_time": "2025-05-31T14:45:02.070031",
     "exception": false,
     "start_time": "2025-05-31T14:45:02.054889",
     "status": "completed"
    },
    "tags": []
   },
   "outputs": [
    {
     "data": {
      "text/plain": [
       "'To begin making the Masala Karela Recipe,de-seed the karela and slice.\\nDo not remove the skin as the skin has all the nutrients.\\nAdd the karela to the pressure cooker with 3 tablespoon of water, salt and turmeric powder and pressure cook for three whistles.\\nRelease the pressure immediately and open the lids.\\nKeep aside.Heat oil in a heavy bottomed pan or a kadhai.\\nAdd cumin seeds and let it sizzle.Once the cumin seeds have sizzled, add onions and saute them till it turns golden brown in color.Add the karela, red chilli powder, amchur powder, coriander powder and besan.\\nStir to combine the masalas into the karela.Drizzle a little extra oil on the top and mix again.\\nCover the pan and simmer Masala Karela stirring occasionally until everything comes together well.\\nTurn off the heat.Transfer Masala Karela into a serving bowl and serve.Serve Masala Karela along with Panchmel Dal and Phulka for a weekday meal with your family.\\n'"
      ]
     },
     "execution_count": 3,
     "metadata": {},
     "output_type": "execute_result"
    }
   ],
   "source": [
    "df.TranslatedInstructions[0]"
   ]
  },
  {
   "cell_type": "code",
   "execution_count": 4,
   "id": "6aeb33b6",
   "metadata": {
    "execution": {
     "iopub.execute_input": "2025-05-31T14:45:02.078268Z",
     "iopub.status.busy": "2025-05-31T14:45:02.077922Z",
     "iopub.status.idle": "2025-05-31T14:45:02.083728Z",
     "shell.execute_reply": "2025-05-31T14:45:02.082505Z"
    },
    "papermill": {
     "duration": 0.0122,
     "end_time": "2025-05-31T14:45:02.085510",
     "exception": false,
     "start_time": "2025-05-31T14:45:02.073310",
     "status": "completed"
    },
    "tags": []
   },
   "outputs": [],
   "source": [
    "import re\n",
    "\n",
    "def clean_text(text):\n",
    "    # Remove punctuation and newlines\n",
    "    return re.sub(r'[^\\w\\s]', '', text).replace('\\n', ' ')\n"
   ]
  },
  {
   "cell_type": "code",
   "execution_count": 5,
   "id": "f673ab90",
   "metadata": {
    "execution": {
     "iopub.execute_input": "2025-05-31T14:45:02.093405Z",
     "iopub.status.busy": "2025-05-31T14:45:02.093043Z",
     "iopub.status.idle": "2025-05-31T14:45:02.296904Z",
     "shell.execute_reply": "2025-05-31T14:45:02.294642Z"
    },
    "papermill": {
     "duration": 0.210134,
     "end_time": "2025-05-31T14:45:02.299227",
     "exception": false,
     "start_time": "2025-05-31T14:45:02.089093",
     "status": "completed"
    },
    "tags": []
   },
   "outputs": [],
   "source": [
    "df.TranslatedInstructions = df.TranslatedInstructions.apply(clean_text)"
   ]
  },
  {
   "cell_type": "code",
   "execution_count": 6,
   "id": "0c1aad8f",
   "metadata": {
    "execution": {
     "iopub.execute_input": "2025-05-31T14:45:02.308667Z",
     "iopub.status.busy": "2025-05-31T14:45:02.307875Z",
     "iopub.status.idle": "2025-05-31T14:45:02.317572Z",
     "shell.execute_reply": "2025-05-31T14:45:02.315840Z"
    },
    "papermill": {
     "duration": 0.017081,
     "end_time": "2025-05-31T14:45:02.319495",
     "exception": false,
     "start_time": "2025-05-31T14:45:02.302414",
     "status": "completed"
    },
    "tags": []
   },
   "outputs": [
    {
     "data": {
      "text/plain": [
       "'To make tomato puliogere first cut the tomatoes Now put in a mixer grinder and puree it Now heat oil in a pan After the oil is hot add chana dal urad dal cashew and let it cook for 10 to 20 seconds After 10 to 20 seconds add cumin seeds mustard seeds green chillies dry red chillies and curry leaves After 30 seconds add tomato puree to it and mix Add BC Belle Bhat powder salt and mix it Allow to cook for 7 to 8 minutes and then turn off the gas Take it out in a bowl add cooked rice and mix it Serve hot Serve tomato puliogre with tomato cucumber raita and papad for dinner'"
      ]
     },
     "execution_count": 6,
     "metadata": {},
     "output_type": "execute_result"
    }
   ],
   "source": [
    "df.TranslatedInstructions[1]"
   ]
  },
  {
   "cell_type": "code",
   "execution_count": 7,
   "id": "981d5461",
   "metadata": {
    "execution": {
     "iopub.execute_input": "2025-05-31T14:45:02.327479Z",
     "iopub.status.busy": "2025-05-31T14:45:02.327158Z",
     "iopub.status.idle": "2025-05-31T14:45:02.691687Z",
     "shell.execute_reply": "2025-05-31T14:45:02.690598Z"
    },
    "papermill": {
     "duration": 0.370683,
     "end_time": "2025-05-31T14:45:02.693583",
     "exception": false,
     "start_time": "2025-05-31T14:45:02.322900",
     "status": "completed"
    },
    "tags": []
   },
   "outputs": [],
   "source": [
    "df.to_csv(\"food_receipes.txt\", columns=[\"TranslatedInstructions\"], header=None, index=False)\n"
   ]
  },
  {
   "cell_type": "code",
   "execution_count": 8,
   "id": "0f07090c",
   "metadata": {
    "execution": {
     "iopub.execute_input": "2025-05-31T14:45:02.704182Z",
     "iopub.status.busy": "2025-05-31T14:45:02.703167Z",
     "iopub.status.idle": "2025-05-31T14:45:50.495257Z",
     "shell.execute_reply": "2025-05-31T14:45:50.494024Z"
    },
    "papermill": {
     "duration": 47.79862,
     "end_time": "2025-05-31T14:45:50.496886",
     "exception": false,
     "start_time": "2025-05-31T14:45:02.698266",
     "status": "completed"
    },
    "tags": []
   },
   "outputs": [
    {
     "name": "stderr",
     "output_type": "stream",
     "text": [
      "Read 1M words\n",
      "Number of words:  6895\n",
      "Number of labels: 0\n",
      "Progress: 100.0% words/sec/thread:   44065 lr:  0.000000 avg.loss:  2.095286 ETA:   0h 0m 0s\n"
     ]
    }
   ],
   "source": [
    "import fasttext\n",
    "\n",
    "model = fasttext.train_unsupervised(\"food_receipes.txt\")"
   ]
  },
  {
   "cell_type": "code",
   "execution_count": 9,
   "id": "0d112c0b",
   "metadata": {
    "execution": {
     "iopub.execute_input": "2025-05-31T14:45:50.524870Z",
     "iopub.status.busy": "2025-05-31T14:45:50.524564Z",
     "iopub.status.idle": "2025-05-31T14:45:50.579720Z",
     "shell.execute_reply": "2025-05-31T14:45:50.578879Z"
    },
    "papermill": {
     "duration": 0.070515,
     "end_time": "2025-05-31T14:45:50.581255",
     "exception": false,
     "start_time": "2025-05-31T14:45:50.510740",
     "status": "completed"
    },
    "tags": []
   },
   "outputs": [
    {
     "data": {
      "text/plain": [
       "[(0.8793815970420837, 'idlis'),\n",
       " (0.8073098063468933, 'Idli'),\n",
       " (0.7533566355705261, 'usili'),\n",
       " (0.7264058589935303, 'Idlis'),\n",
       " (0.7091750502586365, 'paruppu'),\n",
       " (0.7091716527938843, 'dhokla'),\n",
       " (0.691541850566864, 'plates'),\n",
       " (0.6586856842041016, 'sevai'),\n",
       " (0.6555432677268982, 'mould'),\n",
       " (0.6468660235404968, 'steamer')]"
      ]
     },
     "execution_count": 9,
     "metadata": {},
     "output_type": "execute_result"
    }
   ],
   "source": [
    "model.get_nearest_neighbors('idli')"
   ]
  },
  {
   "cell_type": "code",
   "execution_count": 10,
   "id": "61504689",
   "metadata": {
    "execution": {
     "iopub.execute_input": "2025-05-31T14:45:50.608140Z",
     "iopub.status.busy": "2025-05-31T14:45:50.607777Z",
     "iopub.status.idle": "2025-05-31T14:45:50.613581Z",
     "shell.execute_reply": "2025-05-31T14:45:50.612751Z"
    },
    "papermill": {
     "duration": 0.020443,
     "end_time": "2025-05-31T14:45:50.615033",
     "exception": false,
     "start_time": "2025-05-31T14:45:50.594590",
     "status": "completed"
    },
    "tags": []
   },
   "outputs": [
    {
     "data": {
      "text/plain": [
       "(100,)"
      ]
     },
     "execution_count": 10,
     "metadata": {},
     "output_type": "execute_result"
    }
   ],
   "source": [
    "\n",
    "model.get_word_vector(\"dosa\").shape"
   ]
  }
 ],
 "metadata": {
  "kaggle": {
   "accelerator": "none",
   "dataSources": [
    {
     "datasetId": 1218948,
     "sourceId": 2035629,
     "sourceType": "datasetVersion"
    }
   ],
   "dockerImageVersionId": 31040,
   "isGpuEnabled": false,
   "isInternetEnabled": false,
   "language": "python",
   "sourceType": "notebook"
  },
  "kernelspec": {
   "display_name": "Python 3",
   "language": "python",
   "name": "python3"
  },
  "language_info": {
   "codemirror_mode": {
    "name": "ipython",
    "version": 3
   },
   "file_extension": ".py",
   "mimetype": "text/x-python",
   "name": "python",
   "nbconvert_exporter": "python",
   "pygments_lexer": "ipython3",
   "version": "3.11.11"
  },
  "papermill": {
   "default_parameters": {},
   "duration": 56.845414,
   "end_time": "2025-05-31T14:45:51.248293",
   "environment_variables": {},
   "exception": null,
   "input_path": "__notebook__.ipynb",
   "output_path": "__notebook__.ipynb",
   "parameters": {},
   "start_time": "2025-05-31T14:44:54.402879",
   "version": "2.6.0"
  }
 },
 "nbformat": 4,
 "nbformat_minor": 5
}
