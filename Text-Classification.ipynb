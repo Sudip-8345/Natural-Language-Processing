{
 "cells": [
  {
   "cell_type": "code",
   "execution_count": 1,
   "id": "9551c44d",
   "metadata": {
    "_cell_guid": "b1076dfc-b9ad-4769-8c92-a6c4dae69d19",
    "_uuid": "8f2839f25d086af736a60e9eeb907d3b93b6e0e5",
    "execution": {
     "iopub.execute_input": "2025-05-30T13:30:26.913742Z",
     "iopub.status.busy": "2025-05-30T13:30:26.913427Z",
     "iopub.status.idle": "2025-05-30T13:30:28.759291Z",
     "shell.execute_reply": "2025-05-30T13:30:28.758310Z"
    },
    "papermill": {
     "duration": 1.856619,
     "end_time": "2025-05-30T13:30:28.760778",
     "exception": false,
     "start_time": "2025-05-30T13:30:26.904159",
     "status": "completed"
    },
    "tags": []
   },
   "outputs": [
    {
     "name": "stdout",
     "output_type": "stream",
     "text": [
      "/kaggle/input/imdb-dataset-of-50k-movie-reviews/IMDB Dataset.csv\n"
     ]
    }
   ],
   "source": [
    "# This Python 3 environment comes with many helpful analytics libraries installed\n",
    "# It is defined by the kaggle/python Docker image: https://github.com/kaggle/docker-python\n",
    "# For example, here's several helpful packages to load\n",
    "\n",
    "import numpy as np # linear algebra\n",
    "import pandas as pd # data processing, CSV file I/O (e.g. pd.read_csv)\n",
    "\n",
    "# Input data files are available in the read-only \"../input/\" directory\n",
    "# For example, running this (by clicking run or pressing Shift+Enter) will list all files under the input directory\n",
    "\n",
    "import os\n",
    "for dirname, _, filenames in os.walk('/kaggle/input'):\n",
    "    for filename in filenames:\n",
    "        print(os.path.join(dirname, filename))\n",
    "\n",
    "# You can write up to 20GB to the current directory (/kaggle/working/) that gets preserved as output when you create a version using \"Save & Run All\" \n",
    "# You can also write temporary files to /kaggle/temp/, but they won't be saved outside of the current session"
   ]
  },
  {
   "cell_type": "code",
   "execution_count": 2,
   "id": "26335c5e",
   "metadata": {
    "execution": {
     "iopub.execute_input": "2025-05-30T13:30:28.776546Z",
     "iopub.status.busy": "2025-05-30T13:30:28.776099Z",
     "iopub.status.idle": "2025-05-30T13:30:28.780302Z",
     "shell.execute_reply": "2025-05-30T13:30:28.779482Z"
    },
    "papermill": {
     "duration": 0.013367,
     "end_time": "2025-05-30T13:30:28.781653",
     "exception": false,
     "start_time": "2025-05-30T13:30:28.768286",
     "status": "completed"
    },
    "tags": []
   },
   "outputs": [],
   "source": [
    "import numpy as np\n",
    "import pandas as pd"
   ]
  },
  {
   "cell_type": "code",
   "execution_count": 3,
   "id": "2b141a10",
   "metadata": {
    "execution": {
     "iopub.execute_input": "2025-05-30T13:30:28.797509Z",
     "iopub.status.busy": "2025-05-30T13:30:28.796729Z",
     "iopub.status.idle": "2025-05-30T13:30:30.248223Z",
     "shell.execute_reply": "2025-05-30T13:30:30.247389Z"
    },
    "papermill": {
     "duration": 1.460949,
     "end_time": "2025-05-30T13:30:30.249815",
     "exception": false,
     "start_time": "2025-05-30T13:30:28.788866",
     "status": "completed"
    },
    "tags": []
   },
   "outputs": [],
   "source": [
    "temp_df = pd.read_csv('/kaggle/input/imdb-dataset-of-50k-movie-reviews/IMDB Dataset.csv')"
   ]
  },
  {
   "cell_type": "code",
   "execution_count": 4,
   "id": "1f76b068",
   "metadata": {
    "execution": {
     "iopub.execute_input": "2025-05-30T13:30:30.265802Z",
     "iopub.status.busy": "2025-05-30T13:30:30.264973Z",
     "iopub.status.idle": "2025-05-30T13:30:30.288933Z",
     "shell.execute_reply": "2025-05-30T13:30:30.288096Z"
    },
    "papermill": {
     "duration": 0.033273,
     "end_time": "2025-05-30T13:30:30.290287",
     "exception": false,
     "start_time": "2025-05-30T13:30:30.257014",
     "status": "completed"
    },
    "tags": []
   },
   "outputs": [
    {
     "data": {
      "text/html": [
       "<div>\n",
       "<style scoped>\n",
       "    .dataframe tbody tr th:only-of-type {\n",
       "        vertical-align: middle;\n",
       "    }\n",
       "\n",
       "    .dataframe tbody tr th {\n",
       "        vertical-align: top;\n",
       "    }\n",
       "\n",
       "    .dataframe thead th {\n",
       "        text-align: right;\n",
       "    }\n",
       "</style>\n",
       "<table border=\"1\" class=\"dataframe\">\n",
       "  <thead>\n",
       "    <tr style=\"text-align: right;\">\n",
       "      <th></th>\n",
       "      <th>review</th>\n",
       "      <th>sentiment</th>\n",
       "    </tr>\n",
       "  </thead>\n",
       "  <tbody>\n",
       "    <tr>\n",
       "      <th>0</th>\n",
       "      <td>One of the other reviewers has mentioned that ...</td>\n",
       "      <td>positive</td>\n",
       "    </tr>\n",
       "    <tr>\n",
       "      <th>1</th>\n",
       "      <td>A wonderful little production. &lt;br /&gt;&lt;br /&gt;The...</td>\n",
       "      <td>positive</td>\n",
       "    </tr>\n",
       "    <tr>\n",
       "      <th>2</th>\n",
       "      <td>I thought this was a wonderful way to spend ti...</td>\n",
       "      <td>positive</td>\n",
       "    </tr>\n",
       "    <tr>\n",
       "      <th>3</th>\n",
       "      <td>Basically there's a family where a little boy ...</td>\n",
       "      <td>negative</td>\n",
       "    </tr>\n",
       "    <tr>\n",
       "      <th>4</th>\n",
       "      <td>Petter Mattei's \"Love in the Time of Money\" is...</td>\n",
       "      <td>positive</td>\n",
       "    </tr>\n",
       "  </tbody>\n",
       "</table>\n",
       "</div>"
      ],
      "text/plain": [
       "                                              review sentiment\n",
       "0  One of the other reviewers has mentioned that ...  positive\n",
       "1  A wonderful little production. <br /><br />The...  positive\n",
       "2  I thought this was a wonderful way to spend ti...  positive\n",
       "3  Basically there's a family where a little boy ...  negative\n",
       "4  Petter Mattei's \"Love in the Time of Money\" is...  positive"
      ]
     },
     "execution_count": 4,
     "metadata": {},
     "output_type": "execute_result"
    }
   ],
   "source": [
    "df = temp_df.iloc[:20000]\n",
    "df.head()"
   ]
  },
  {
   "cell_type": "code",
   "execution_count": 5,
   "id": "285fdd10",
   "metadata": {
    "execution": {
     "iopub.execute_input": "2025-05-30T13:30:30.306776Z",
     "iopub.status.busy": "2025-05-30T13:30:30.306460Z",
     "iopub.status.idle": "2025-05-30T13:30:30.319056Z",
     "shell.execute_reply": "2025-05-30T13:30:30.318334Z"
    },
    "papermill": {
     "duration": 0.022838,
     "end_time": "2025-05-30T13:30:30.320505",
     "exception": false,
     "start_time": "2025-05-30T13:30:30.297667",
     "status": "completed"
    },
    "tags": []
   },
   "outputs": [
    {
     "data": {
      "text/plain": [
       "'A wonderful little production. <br /><br />The filming technique is very unassuming- very old-time-BBC fashion and gives a comforting, and sometimes discomforting, sense of realism to the entire piece. <br /><br />The actors are extremely well chosen- Michael Sheen not only \"has got all the polari\" but he has all the voices down pat too! You can truly see the seamless editing guided by the references to Williams\\' diary entries, not only is it well worth the watching but it is a terrificly written and performed piece. A masterful production about one of the great master\\'s of comedy and his life. <br /><br />The realism really comes home with the little things: the fantasy of the guard which, rather than use the traditional \\'dream\\' techniques remains solid then disappears. It plays on our knowledge and our senses, particularly with the scenes concerning Orton and Halliwell and the sets (particularly of their flat with Halliwell\\'s murals decorating every surface) are terribly well done.'"
      ]
     },
     "execution_count": 5,
     "metadata": {},
     "output_type": "execute_result"
    }
   ],
   "source": [
    "df.review[1]"
   ]
  },
  {
   "cell_type": "code",
   "execution_count": 6,
   "id": "9c329378",
   "metadata": {
    "execution": {
     "iopub.execute_input": "2025-05-30T13:30:30.336528Z",
     "iopub.status.busy": "2025-05-30T13:30:30.336166Z",
     "iopub.status.idle": "2025-05-30T13:30:30.351363Z",
     "shell.execute_reply": "2025-05-30T13:30:30.350525Z"
    },
    "papermill": {
     "duration": 0.024843,
     "end_time": "2025-05-30T13:30:30.352794",
     "exception": false,
     "start_time": "2025-05-30T13:30:30.327951",
     "status": "completed"
    },
    "tags": []
   },
   "outputs": [
    {
     "data": {
      "text/plain": [
       "sentiment\n",
       "negative    10097\n",
       "positive     9903\n",
       "Name: count, dtype: int64"
      ]
     },
     "execution_count": 6,
     "metadata": {},
     "output_type": "execute_result"
    }
   ],
   "source": [
    "df.sentiment.value_counts()"
   ]
  },
  {
   "cell_type": "code",
   "execution_count": 7,
   "id": "3a62fc09",
   "metadata": {
    "execution": {
     "iopub.execute_input": "2025-05-30T13:30:30.369098Z",
     "iopub.status.busy": "2025-05-30T13:30:30.368464Z",
     "iopub.status.idle": "2025-05-30T13:30:30.381954Z",
     "shell.execute_reply": "2025-05-30T13:30:30.381180Z"
    },
    "papermill": {
     "duration": 0.023309,
     "end_time": "2025-05-30T13:30:30.383523",
     "exception": false,
     "start_time": "2025-05-30T13:30:30.360214",
     "status": "completed"
    },
    "tags": []
   },
   "outputs": [
    {
     "data": {
      "text/plain": [
       "review       0\n",
       "sentiment    0\n",
       "dtype: int64"
      ]
     },
     "execution_count": 7,
     "metadata": {},
     "output_type": "execute_result"
    }
   ],
   "source": [
    "df.isna().sum()"
   ]
  },
  {
   "cell_type": "code",
   "execution_count": 8,
   "id": "d002ed5c",
   "metadata": {
    "execution": {
     "iopub.execute_input": "2025-05-30T13:30:30.400676Z",
     "iopub.status.busy": "2025-05-30T13:30:30.399896Z",
     "iopub.status.idle": "2025-05-30T13:30:30.485793Z",
     "shell.execute_reply": "2025-05-30T13:30:30.484942Z"
    },
    "papermill": {
     "duration": 0.095831,
     "end_time": "2025-05-30T13:30:30.487225",
     "exception": false,
     "start_time": "2025-05-30T13:30:30.391394",
     "status": "completed"
    },
    "tags": []
   },
   "outputs": [
    {
     "data": {
      "text/plain": [
       "74"
      ]
     },
     "execution_count": 8,
     "metadata": {},
     "output_type": "execute_result"
    }
   ],
   "source": [
    "df.duplicated().sum()"
   ]
  },
  {
   "cell_type": "code",
   "execution_count": 9,
   "id": "fe5243d9",
   "metadata": {
    "execution": {
     "iopub.execute_input": "2025-05-30T13:30:30.504644Z",
     "iopub.status.busy": "2025-05-30T13:30:30.503778Z",
     "iopub.status.idle": "2025-05-30T13:30:30.581659Z",
     "shell.execute_reply": "2025-05-30T13:30:30.580770Z"
    },
    "papermill": {
     "duration": 0.087994,
     "end_time": "2025-05-30T13:30:30.583351",
     "exception": false,
     "start_time": "2025-05-30T13:30:30.495357",
     "status": "completed"
    },
    "tags": []
   },
   "outputs": [
    {
     "name": "stderr",
     "output_type": "stream",
     "text": [
      "/tmp/ipykernel_13/3006716147.py:1: SettingWithCopyWarning: \n",
      "A value is trying to be set on a copy of a slice from a DataFrame\n",
      "\n",
      "See the caveats in the documentation: https://pandas.pydata.org/pandas-docs/stable/user_guide/indexing.html#returning-a-view-versus-a-copy\n",
      "  df.drop_duplicates(inplace=True)\n"
     ]
    }
   ],
   "source": [
    "df.drop_duplicates(inplace=True)"
   ]
  },
  {
   "cell_type": "code",
   "execution_count": 10,
   "id": "d5a1e40a",
   "metadata": {
    "execution": {
     "iopub.execute_input": "2025-05-30T13:30:30.600359Z",
     "iopub.status.busy": "2025-05-30T13:30:30.600003Z",
     "iopub.status.idle": "2025-05-30T13:30:30.604211Z",
     "shell.execute_reply": "2025-05-30T13:30:30.603382Z"
    },
    "papermill": {
     "duration": 0.014417,
     "end_time": "2025-05-30T13:30:30.605707",
     "exception": false,
     "start_time": "2025-05-30T13:30:30.591290",
     "status": "completed"
    },
    "tags": []
   },
   "outputs": [],
   "source": [
    "# basic preprocessing \n",
    "# remove tags\n",
    "# lower case\n",
    "# remove stopwords"
   ]
  },
  {
   "cell_type": "code",
   "execution_count": 11,
   "id": "fd39479a",
   "metadata": {
    "execution": {
     "iopub.execute_input": "2025-05-30T13:30:30.622301Z",
     "iopub.status.busy": "2025-05-30T13:30:30.621939Z",
     "iopub.status.idle": "2025-05-30T13:30:30.629617Z",
     "shell.execute_reply": "2025-05-30T13:30:30.628848Z"
    },
    "papermill": {
     "duration": 0.017462,
     "end_time": "2025-05-30T13:30:30.630907",
     "exception": false,
     "start_time": "2025-05-30T13:30:30.613445",
     "status": "completed"
    },
    "tags": []
   },
   "outputs": [
    {
     "data": {
      "text/plain": [
       "'A wonderful little production. <br /><br />The filming technique is very unassuming- very old-time-BBC fashion and gives a comforting, and sometimes discomforting, sense of realism to the entire piece. <br /><br />The actors are extremely well chosen- Michael Sheen not only \"has got all the polari\" but he has all the voices down pat too! You can truly see the seamless editing guided by the references to Williams\\' diary entries, not only is it well worth the watching but it is a terrificly written and performed piece. A masterful production about one of the great master\\'s of comedy and his life. <br /><br />The realism really comes home with the little things: the fantasy of the guard which, rather than use the traditional \\'dream\\' techniques remains solid then disappears. It plays on our knowledge and our senses, particularly with the scenes concerning Orton and Halliwell and the sets (particularly of their flat with Halliwell\\'s murals decorating every surface) are terribly well done.'"
      ]
     },
     "execution_count": 11,
     "metadata": {},
     "output_type": "execute_result"
    }
   ],
   "source": [
    "df.review[1]"
   ]
  },
  {
   "cell_type": "code",
   "execution_count": 12,
   "id": "518c0e7e",
   "metadata": {
    "execution": {
     "iopub.execute_input": "2025-05-30T13:30:30.647567Z",
     "iopub.status.busy": "2025-05-30T13:30:30.647225Z",
     "iopub.status.idle": "2025-05-30T13:30:33.318686Z",
     "shell.execute_reply": "2025-05-30T13:30:33.317763Z"
    },
    "papermill": {
     "duration": 2.681781,
     "end_time": "2025-05-30T13:30:33.320535",
     "exception": false,
     "start_time": "2025-05-30T13:30:30.638754",
     "status": "completed"
    },
    "tags": []
   },
   "outputs": [],
   "source": [
    "import re\n",
    "from nltk.corpus import stopwords\n",
    "\n",
    "sw_list = stopwords.words('english')\n",
    "\n",
    "def clean_text(text):\n",
    "    text = text.lower()                          # Lowercase the text\n",
    "    text = re.sub(r'[^\\w\\s]', '', text)          # Remove punctuation\n",
    "    words = text.split()\n",
    "    words = [word for word in words if word not in sw_list]  # Remove stopwords\n",
    "    return ' '.join(words)\n"
   ]
  },
  {
   "cell_type": "code",
   "execution_count": 13,
   "id": "1d832276",
   "metadata": {
    "execution": {
     "iopub.execute_input": "2025-05-30T13:30:33.338446Z",
     "iopub.status.busy": "2025-05-30T13:30:33.337951Z",
     "iopub.status.idle": "2025-05-30T13:30:43.666842Z",
     "shell.execute_reply": "2025-05-30T13:30:43.665886Z"
    },
    "papermill": {
     "duration": 10.339713,
     "end_time": "2025-05-30T13:30:43.668557",
     "exception": false,
     "start_time": "2025-05-30T13:30:33.328844",
     "status": "completed"
    },
    "tags": []
   },
   "outputs": [
    {
     "name": "stderr",
     "output_type": "stream",
     "text": [
      "/tmp/ipykernel_13/2073461745.py:1: SettingWithCopyWarning: \n",
      "A value is trying to be set on a copy of a slice from a DataFrame.\n",
      "Try using .loc[row_indexer,col_indexer] = value instead\n",
      "\n",
      "See the caveats in the documentation: https://pandas.pydata.org/pandas-docs/stable/user_guide/indexing.html#returning-a-view-versus-a-copy\n",
      "  df.review = df.review.apply(clean_text)\n"
     ]
    }
   ],
   "source": [
    "df.review = df.review.apply(clean_text)"
   ]
  },
  {
   "cell_type": "code",
   "execution_count": 14,
   "id": "cdc8bd30",
   "metadata": {
    "execution": {
     "iopub.execute_input": "2025-05-30T13:30:43.686308Z",
     "iopub.status.busy": "2025-05-30T13:30:43.685948Z",
     "iopub.status.idle": "2025-05-30T13:30:43.691812Z",
     "shell.execute_reply": "2025-05-30T13:30:43.690988Z"
    },
    "papermill": {
     "duration": 0.016136,
     "end_time": "2025-05-30T13:30:43.693125",
     "exception": false,
     "start_time": "2025-05-30T13:30:43.676989",
     "status": "completed"
    },
    "tags": []
   },
   "outputs": [
    {
     "data": {
      "text/plain": [
       "'wonderful little production br br filming technique unassuming oldtimebbc fashion gives comforting sometimes discomforting sense realism entire piece br br actors extremely well chosen michael sheen got polari voices pat truly see seamless editing guided references williams diary entries well worth watching terrificly written performed piece masterful production one great masters comedy life br br realism really comes home little things fantasy guard rather use traditional dream techniques remains solid disappears plays knowledge senses particularly scenes concerning orton halliwell sets particularly flat halliwells murals decorating every surface terribly well done'"
      ]
     },
     "execution_count": 14,
     "metadata": {},
     "output_type": "execute_result"
    }
   ],
   "source": [
    "df.review[1]"
   ]
  },
  {
   "cell_type": "code",
   "execution_count": 15,
   "id": "5df0ac3c",
   "metadata": {
    "execution": {
     "iopub.execute_input": "2025-05-30T13:30:43.710387Z",
     "iopub.status.busy": "2025-05-30T13:30:43.710013Z",
     "iopub.status.idle": "2025-05-30T13:30:43.716099Z",
     "shell.execute_reply": "2025-05-30T13:30:43.715353Z"
    },
    "papermill": {
     "duration": 0.016381,
     "end_time": "2025-05-30T13:30:43.717606",
     "exception": false,
     "start_time": "2025-05-30T13:30:43.701225",
     "status": "completed"
    },
    "tags": []
   },
   "outputs": [],
   "source": [
    "X = df.iloc[:,0:1]\n",
    "y = df.sentiment"
   ]
  },
  {
   "cell_type": "code",
   "execution_count": 16,
   "id": "ec178346",
   "metadata": {
    "execution": {
     "iopub.execute_input": "2025-05-30T13:30:43.734779Z",
     "iopub.status.busy": "2025-05-30T13:30:43.734470Z",
     "iopub.status.idle": "2025-05-30T13:30:43.738738Z",
     "shell.execute_reply": "2025-05-30T13:30:43.738010Z"
    },
    "papermill": {
     "duration": 0.01433,
     "end_time": "2025-05-30T13:30:43.740043",
     "exception": false,
     "start_time": "2025-05-30T13:30:43.725713",
     "status": "completed"
    },
    "tags": []
   },
   "outputs": [],
   "source": [
    "from sklearn.preprocessing import LabelEncoder\n",
    "le = LabelEncoder()"
   ]
  },
  {
   "cell_type": "code",
   "execution_count": 17,
   "id": "375801e2",
   "metadata": {
    "execution": {
     "iopub.execute_input": "2025-05-30T13:30:43.756860Z",
     "iopub.status.busy": "2025-05-30T13:30:43.756559Z",
     "iopub.status.idle": "2025-05-30T13:30:43.767108Z",
     "shell.execute_reply": "2025-05-30T13:30:43.766390Z"
    },
    "papermill": {
     "duration": 0.020619,
     "end_time": "2025-05-30T13:30:43.768551",
     "exception": false,
     "start_time": "2025-05-30T13:30:43.747932",
     "status": "completed"
    },
    "tags": []
   },
   "outputs": [],
   "source": [
    "from sklearn.model_selection import train_test_split\n",
    "X_train,X_test,y_train,y_test = train_test_split(X,y,test_size = 0.2,random_state = 42)"
   ]
  },
  {
   "cell_type": "code",
   "execution_count": 18,
   "id": "9dcdf07e",
   "metadata": {
    "execution": {
     "iopub.execute_input": "2025-05-30T13:30:43.848883Z",
     "iopub.status.busy": "2025-05-30T13:30:43.848581Z",
     "iopub.status.idle": "2025-05-30T13:30:43.856741Z",
     "shell.execute_reply": "2025-05-30T13:30:43.856075Z"
    },
    "papermill": {
     "duration": 0.018412,
     "end_time": "2025-05-30T13:30:43.858106",
     "exception": false,
     "start_time": "2025-05-30T13:30:43.839694",
     "status": "completed"
    },
    "tags": []
   },
   "outputs": [],
   "source": [
    "y_train = le.fit_transform(y_train)\n",
    "y_test  = le.transform(y_test)"
   ]
  },
  {
   "cell_type": "code",
   "execution_count": 19,
   "id": "70cc6242",
   "metadata": {
    "execution": {
     "iopub.execute_input": "2025-05-30T13:30:43.875567Z",
     "iopub.status.busy": "2025-05-30T13:30:43.874889Z",
     "iopub.status.idle": "2025-05-30T13:30:43.880320Z",
     "shell.execute_reply": "2025-05-30T13:30:43.879518Z"
    },
    "papermill": {
     "duration": 0.015785,
     "end_time": "2025-05-30T13:30:43.881907",
     "exception": false,
     "start_time": "2025-05-30T13:30:43.866122",
     "status": "completed"
    },
    "tags": []
   },
   "outputs": [
    {
     "data": {
      "text/plain": [
       "((15940, 1), (3986,))"
      ]
     },
     "execution_count": 19,
     "metadata": {},
     "output_type": "execute_result"
    }
   ],
   "source": [
    "X_train.shape,y_test.shape"
   ]
  },
  {
   "cell_type": "code",
   "execution_count": 20,
   "id": "4d79bd46",
   "metadata": {
    "execution": {
     "iopub.execute_input": "2025-05-30T13:30:43.899814Z",
     "iopub.status.busy": "2025-05-30T13:30:43.898972Z",
     "iopub.status.idle": "2025-05-30T13:30:43.903204Z",
     "shell.execute_reply": "2025-05-30T13:30:43.902411Z"
    },
    "papermill": {
     "duration": 0.014696,
     "end_time": "2025-05-30T13:30:43.904761",
     "exception": false,
     "start_time": "2025-05-30T13:30:43.890065",
     "status": "completed"
    },
    "tags": []
   },
   "outputs": [],
   "source": [
    "# Aplying BOW\n",
    "from sklearn.feature_extraction.text import CountVectorizer\n",
    "cv = CountVectorizer()"
   ]
  },
  {
   "cell_type": "code",
   "execution_count": 21,
   "id": "2831b463",
   "metadata": {
    "execution": {
     "iopub.execute_input": "2025-05-30T13:30:43.922416Z",
     "iopub.status.busy": "2025-05-30T13:30:43.921474Z",
     "iopub.status.idle": "2025-05-30T13:30:50.166526Z",
     "shell.execute_reply": "2025-05-30T13:30:50.165218Z"
    },
    "papermill": {
     "duration": 6.255597,
     "end_time": "2025-05-30T13:30:50.168273",
     "exception": false,
     "start_time": "2025-05-30T13:30:43.912676",
     "status": "completed"
    },
    "tags": []
   },
   "outputs": [],
   "source": [
    "X_train_bow = cv.fit_transform(X_train.review).toarray()\n",
    "X_test_bow = cv.transform(X_test.review).toarray()"
   ]
  },
  {
   "cell_type": "code",
   "execution_count": 22,
   "id": "39041bef",
   "metadata": {
    "execution": {
     "iopub.execute_input": "2025-05-30T13:30:50.186109Z",
     "iopub.status.busy": "2025-05-30T13:30:50.185331Z",
     "iopub.status.idle": "2025-05-30T13:30:50.190724Z",
     "shell.execute_reply": "2025-05-30T13:30:50.190014Z"
    },
    "papermill": {
     "duration": 0.015572,
     "end_time": "2025-05-30T13:30:50.192020",
     "exception": false,
     "start_time": "2025-05-30T13:30:50.176448",
     "status": "completed"
    },
    "tags": []
   },
   "outputs": [
    {
     "data": {
      "text/plain": [
       "((15940, 95964), (3986, 95964))"
      ]
     },
     "execution_count": 22,
     "metadata": {},
     "output_type": "execute_result"
    }
   ],
   "source": [
    "X_train_bow.shape,X_test_bow.shape"
   ]
  },
  {
   "cell_type": "code",
   "execution_count": 23,
   "id": "54d7d97b",
   "metadata": {
    "execution": {
     "iopub.execute_input": "2025-05-30T13:30:50.209489Z",
     "iopub.status.busy": "2025-05-30T13:30:50.208895Z",
     "iopub.status.idle": "2025-05-30T13:31:22.047008Z",
     "shell.execute_reply": "2025-05-30T13:31:22.046137Z"
    },
    "papermill": {
     "duration": 31.856329,
     "end_time": "2025-05-30T13:31:22.056423",
     "exception": false,
     "start_time": "2025-05-30T13:30:50.200094",
     "status": "completed"
    },
    "tags": []
   },
   "outputs": [
    {
     "data": {
      "text/html": [
       "<style>#sk-container-id-1 {color: black;background-color: white;}#sk-container-id-1 pre{padding: 0;}#sk-container-id-1 div.sk-toggleable {background-color: white;}#sk-container-id-1 label.sk-toggleable__label {cursor: pointer;display: block;width: 100%;margin-bottom: 0;padding: 0.3em;box-sizing: border-box;text-align: center;}#sk-container-id-1 label.sk-toggleable__label-arrow:before {content: \"▸\";float: left;margin-right: 0.25em;color: #696969;}#sk-container-id-1 label.sk-toggleable__label-arrow:hover:before {color: black;}#sk-container-id-1 div.sk-estimator:hover label.sk-toggleable__label-arrow:before {color: black;}#sk-container-id-1 div.sk-toggleable__content {max-height: 0;max-width: 0;overflow: hidden;text-align: left;background-color: #f0f8ff;}#sk-container-id-1 div.sk-toggleable__content pre {margin: 0.2em;color: black;border-radius: 0.25em;background-color: #f0f8ff;}#sk-container-id-1 input.sk-toggleable__control:checked~div.sk-toggleable__content {max-height: 200px;max-width: 100%;overflow: auto;}#sk-container-id-1 input.sk-toggleable__control:checked~label.sk-toggleable__label-arrow:before {content: \"▾\";}#sk-container-id-1 div.sk-estimator input.sk-toggleable__control:checked~label.sk-toggleable__label {background-color: #d4ebff;}#sk-container-id-1 div.sk-label input.sk-toggleable__control:checked~label.sk-toggleable__label {background-color: #d4ebff;}#sk-container-id-1 input.sk-hidden--visually {border: 0;clip: rect(1px 1px 1px 1px);clip: rect(1px, 1px, 1px, 1px);height: 1px;margin: -1px;overflow: hidden;padding: 0;position: absolute;width: 1px;}#sk-container-id-1 div.sk-estimator {font-family: monospace;background-color: #f0f8ff;border: 1px dotted black;border-radius: 0.25em;box-sizing: border-box;margin-bottom: 0.5em;}#sk-container-id-1 div.sk-estimator:hover {background-color: #d4ebff;}#sk-container-id-1 div.sk-parallel-item::after {content: \"\";width: 100%;border-bottom: 1px solid gray;flex-grow: 1;}#sk-container-id-1 div.sk-label:hover label.sk-toggleable__label {background-color: #d4ebff;}#sk-container-id-1 div.sk-serial::before {content: \"\";position: absolute;border-left: 1px solid gray;box-sizing: border-box;top: 0;bottom: 0;left: 50%;z-index: 0;}#sk-container-id-1 div.sk-serial {display: flex;flex-direction: column;align-items: center;background-color: white;padding-right: 0.2em;padding-left: 0.2em;position: relative;}#sk-container-id-1 div.sk-item {position: relative;z-index: 1;}#sk-container-id-1 div.sk-parallel {display: flex;align-items: stretch;justify-content: center;background-color: white;position: relative;}#sk-container-id-1 div.sk-item::before, #sk-container-id-1 div.sk-parallel-item::before {content: \"\";position: absolute;border-left: 1px solid gray;box-sizing: border-box;top: 0;bottom: 0;left: 50%;z-index: -1;}#sk-container-id-1 div.sk-parallel-item {display: flex;flex-direction: column;z-index: 1;position: relative;background-color: white;}#sk-container-id-1 div.sk-parallel-item:first-child::after {align-self: flex-end;width: 50%;}#sk-container-id-1 div.sk-parallel-item:last-child::after {align-self: flex-start;width: 50%;}#sk-container-id-1 div.sk-parallel-item:only-child::after {width: 0;}#sk-container-id-1 div.sk-dashed-wrapped {border: 1px dashed gray;margin: 0 0.4em 0.5em 0.4em;box-sizing: border-box;padding-bottom: 0.4em;background-color: white;}#sk-container-id-1 div.sk-label label {font-family: monospace;font-weight: bold;display: inline-block;line-height: 1.2em;}#sk-container-id-1 div.sk-label-container {text-align: center;}#sk-container-id-1 div.sk-container {/* jupyter's `normalize.less` sets `[hidden] { display: none; }` but bootstrap.min.css set `[hidden] { display: none !important; }` so we also need the `!important` here to be able to override the default hidden behavior on the sphinx rendered scikit-learn.org. See: https://github.com/scikit-learn/scikit-learn/issues/21755 */display: inline-block !important;position: relative;}#sk-container-id-1 div.sk-text-repr-fallback {display: none;}</style><div id=\"sk-container-id-1\" class=\"sk-top-container\"><div class=\"sk-text-repr-fallback\"><pre>GaussianNB()</pre><b>In a Jupyter environment, please rerun this cell to show the HTML representation or trust the notebook. <br />On GitHub, the HTML representation is unable to render, please try loading this page with nbviewer.org.</b></div><div class=\"sk-container\" hidden><div class=\"sk-item\"><div class=\"sk-estimator sk-toggleable\"><input class=\"sk-toggleable__control sk-hidden--visually\" id=\"sk-estimator-id-1\" type=\"checkbox\" checked><label for=\"sk-estimator-id-1\" class=\"sk-toggleable__label sk-toggleable__label-arrow\">GaussianNB</label><div class=\"sk-toggleable__content\"><pre>GaussianNB()</pre></div></div></div></div></div>"
      ],
      "text/plain": [
       "GaussianNB()"
      ]
     },
     "execution_count": 23,
     "metadata": {},
     "output_type": "execute_result"
    }
   ],
   "source": [
    "from sklearn.naive_bayes import GaussianNB\n",
    "gnb = GaussianNB()\n",
    "gnb.fit(X_train_bow,y_train)"
   ]
  },
  {
   "cell_type": "code",
   "execution_count": 24,
   "id": "42db5bd5",
   "metadata": {
    "execution": {
     "iopub.execute_input": "2025-05-30T13:31:22.074559Z",
     "iopub.status.busy": "2025-05-30T13:31:22.073798Z",
     "iopub.status.idle": "2025-05-30T13:31:28.758525Z",
     "shell.execute_reply": "2025-05-30T13:31:28.757669Z"
    },
    "papermill": {
     "duration": 6.695315,
     "end_time": "2025-05-30T13:31:28.759979",
     "exception": false,
     "start_time": "2025-05-30T13:31:22.064664",
     "status": "completed"
    },
    "tags": []
   },
   "outputs": [
    {
     "data": {
      "text/plain": [
       "0.654039136979428"
      ]
     },
     "execution_count": 24,
     "metadata": {},
     "output_type": "execute_result"
    }
   ],
   "source": [
    "y_pred = gnb.predict(X_test_bow)\n",
    "\n",
    "from sklearn.metrics import accuracy_score,confusion_matrix\n",
    "accuracy_score(y_test,y_pred)"
   ]
  },
  {
   "cell_type": "markdown",
   "id": "d1f5556d",
   "metadata": {
    "papermill": {
     "duration": 0.007915,
     "end_time": "2025-05-30T13:31:28.776490",
     "exception": false,
     "start_time": "2025-05-30T13:31:28.768575",
     "status": "completed"
    },
    "tags": []
   },
   "source": [
    "Deep Learning Word2Vec approch"
   ]
  },
  {
   "cell_type": "code",
   "execution_count": 25,
   "id": "54ad6f68",
   "metadata": {
    "execution": {
     "iopub.execute_input": "2025-05-30T13:31:28.794097Z",
     "iopub.status.busy": "2025-05-30T13:31:28.793753Z",
     "iopub.status.idle": "2025-05-30T13:31:49.394360Z",
     "shell.execute_reply": "2025-05-30T13:31:49.393519Z"
    },
    "papermill": {
     "duration": 20.611349,
     "end_time": "2025-05-30T13:31:49.395928",
     "exception": false,
     "start_time": "2025-05-30T13:31:28.784579",
     "status": "completed"
    },
    "tags": []
   },
   "outputs": [],
   "source": [
    "import gensim\n",
    "import nltk\n",
    "from nltk.tokenize import sent_tokenize\n",
    "from gensim.utils import simple_preprocess"
   ]
  },
  {
   "cell_type": "code",
   "execution_count": 26,
   "id": "ee953d12",
   "metadata": {
    "execution": {
     "iopub.execute_input": "2025-05-30T13:31:49.414167Z",
     "iopub.status.busy": "2025-05-30T13:31:49.413642Z",
     "iopub.status.idle": "2025-05-30T13:31:52.509069Z",
     "shell.execute_reply": "2025-05-30T13:31:52.508312Z"
    },
    "papermill": {
     "duration": 3.10634,
     "end_time": "2025-05-30T13:31:52.510857",
     "exception": false,
     "start_time": "2025-05-30T13:31:49.404517",
     "status": "completed"
    },
    "tags": []
   },
   "outputs": [],
   "source": [
    "story = []\n",
    "for doc in df.review:\n",
    "    raw_sent = sent_tokenize(doc)\n",
    "    for sent in raw_sent:\n",
    "        story.append(simple_preprocess(sent))"
   ]
  },
  {
   "cell_type": "code",
   "execution_count": 27,
   "id": "2544193e",
   "metadata": {
    "execution": {
     "iopub.execute_input": "2025-05-30T13:31:52.529334Z",
     "iopub.status.busy": "2025-05-30T13:31:52.528969Z",
     "iopub.status.idle": "2025-05-30T13:31:52.533347Z",
     "shell.execute_reply": "2025-05-30T13:31:52.532679Z"
    },
    "papermill": {
     "duration": 0.01516,
     "end_time": "2025-05-30T13:31:52.534749",
     "exception": false,
     "start_time": "2025-05-30T13:31:52.519589",
     "status": "completed"
    },
    "tags": []
   },
   "outputs": [],
   "source": [
    "model = gensim.models.Word2Vec(\n",
    "    window = 10,\n",
    "    min_count = 2\n",
    ")"
   ]
  },
  {
   "cell_type": "code",
   "execution_count": 28,
   "id": "9ae14d8e",
   "metadata": {
    "execution": {
     "iopub.execute_input": "2025-05-30T13:31:52.552588Z",
     "iopub.status.busy": "2025-05-30T13:31:52.552239Z",
     "iopub.status.idle": "2025-05-30T13:31:53.985149Z",
     "shell.execute_reply": "2025-05-30T13:31:53.984296Z"
    },
    "papermill": {
     "duration": 1.443719,
     "end_time": "2025-05-30T13:31:53.986827",
     "exception": false,
     "start_time": "2025-05-30T13:31:52.543108",
     "status": "completed"
    },
    "tags": []
   },
   "outputs": [],
   "source": [
    "model.build_vocab(story)"
   ]
  },
  {
   "cell_type": "code",
   "execution_count": 29,
   "id": "8382d0c8",
   "metadata": {
    "execution": {
     "iopub.execute_input": "2025-05-30T13:31:54.005718Z",
     "iopub.status.busy": "2025-05-30T13:31:54.005359Z",
     "iopub.status.idle": "2025-05-30T13:32:08.018573Z",
     "shell.execute_reply": "2025-05-30T13:32:08.017689Z"
    },
    "papermill": {
     "duration": 14.024186,
     "end_time": "2025-05-30T13:32:08.020038",
     "exception": false,
     "start_time": "2025-05-30T13:31:53.995852",
     "status": "completed"
    },
    "tags": []
   },
   "outputs": [
    {
     "data": {
      "text/plain": [
       "(11245559, 12088370)"
      ]
     },
     "execution_count": 29,
     "metadata": {},
     "output_type": "execute_result"
    }
   ],
   "source": [
    "model.train(story,total_examples = model.corpus_count, epochs = model.epochs)"
   ]
  },
  {
   "cell_type": "code",
   "execution_count": 30,
   "id": "fc169ba8",
   "metadata": {
    "execution": {
     "iopub.execute_input": "2025-05-30T13:32:08.038619Z",
     "iopub.status.busy": "2025-05-30T13:32:08.038286Z",
     "iopub.status.idle": "2025-05-30T13:32:08.043504Z",
     "shell.execute_reply": "2025-05-30T13:32:08.042681Z"
    },
    "papermill": {
     "duration": 0.015851,
     "end_time": "2025-05-30T13:32:08.044812",
     "exception": false,
     "start_time": "2025-05-30T13:32:08.028961",
     "status": "completed"
    },
    "tags": []
   },
   "outputs": [
    {
     "data": {
      "text/plain": [
       "50633"
      ]
     },
     "execution_count": 30,
     "metadata": {},
     "output_type": "execute_result"
    }
   ],
   "source": [
    "len(model.wv.index_to_key)"
   ]
  },
  {
   "cell_type": "code",
   "execution_count": 31,
   "id": "e45bb164",
   "metadata": {
    "execution": {
     "iopub.execute_input": "2025-05-30T13:32:08.062981Z",
     "iopub.status.busy": "2025-05-30T13:32:08.062645Z",
     "iopub.status.idle": "2025-05-30T13:32:08.067646Z",
     "shell.execute_reply": "2025-05-30T13:32:08.066676Z"
    },
    "papermill": {
     "duration": 0.015826,
     "end_time": "2025-05-30T13:32:08.068994",
     "exception": false,
     "start_time": "2025-05-30T13:32:08.053168",
     "status": "completed"
    },
    "tags": []
   },
   "outputs": [],
   "source": [
    "def doc_vec_mean(doc):\n",
    "    sel_doc = [word for word in doc.split() if word in model.wv.index_to_key]\n",
    "    return np.mean(model.wv[sel_doc],axis=0)"
   ]
  },
  {
   "cell_type": "code",
   "execution_count": 32,
   "id": "44f4afe8",
   "metadata": {
    "execution": {
     "iopub.execute_input": "2025-05-30T13:32:08.087343Z",
     "iopub.status.busy": "2025-05-30T13:32:08.086908Z",
     "iopub.status.idle": "2025-05-30T13:32:08.121690Z",
     "shell.execute_reply": "2025-05-30T13:32:08.120822Z"
    },
    "papermill": {
     "duration": 0.045424,
     "end_time": "2025-05-30T13:32:08.123056",
     "exception": false,
     "start_time": "2025-05-30T13:32:08.077632",
     "status": "completed"
    },
    "tags": []
   },
   "outputs": [
    {
     "data": {
      "text/plain": [
       "array([-0.04904234,  0.28739426, -0.05715181, -0.05029223, -0.12523521,\n",
       "       -0.21274759,  0.23765929,  0.48283026, -0.27481642, -0.31787485,\n",
       "       -0.16688134, -0.23271343,  0.00693688, -0.16675086,  0.09290869,\n",
       "       -0.03995353,  0.19426419, -0.4723204 , -0.02759389, -0.8464609 ,\n",
       "        0.61313814,  0.01446403,  0.20907559, -0.32705036,  0.11175052,\n",
       "        0.14088032, -0.239317  ,  0.15493003, -0.13953942,  0.03145045,\n",
       "        0.2490843 ,  0.23398478,  0.27929863, -0.38429663, -0.5450526 ,\n",
       "        0.4686652 ,  0.25715736, -0.28633884, -0.6072729 , -0.29174998,\n",
       "       -0.01104889, -0.2525753 ,  0.00567628,  0.21638802,  0.03119891,\n",
       "       -0.22662576, -0.44119835, -0.2833529 ,  0.03170708,  0.3943665 ,\n",
       "        0.15863025, -0.39522108, -0.14318177,  0.0172774 , -0.3174193 ,\n",
       "        0.03701071,  0.18898591, -0.13338225, -0.7069913 ,  0.05894379,\n",
       "        0.04637599, -0.1255442 ,  0.24899237, -0.24140279, -0.30929425,\n",
       "        0.145621  ,  0.04668551,  0.6603996 , -0.65335613,  0.27136046,\n",
       "       -0.0268305 ,  0.04880165,  0.19820434,  0.19191025,  0.3184717 ,\n",
       "       -0.22554736,  0.02142457,  0.20710604, -0.30117872, -0.04558987,\n",
       "       -0.2705715 , -0.1614496 , -0.20943901,  0.3177491 , -0.23895131,\n",
       "       -0.05876614,  0.3738373 ,  0.44916147,  0.02802907, -0.19884059,\n",
       "        0.6965444 ,  0.12738442,  0.07623006,  0.15740198,  0.37690505,\n",
       "        0.18433769,  0.16026467, -0.3432227 ,  0.18541454,  0.06376588],\n",
       "      dtype=float32)"
      ]
     },
     "execution_count": 32,
     "metadata": {},
     "output_type": "execute_result"
    }
   ],
   "source": [
    "doc_vec_mean(df.review.values[0])"
   ]
  },
  {
   "cell_type": "code",
   "execution_count": 33,
   "id": "e612242f",
   "metadata": {
    "execution": {
     "iopub.execute_input": "2025-05-30T13:32:08.141385Z",
     "iopub.status.busy": "2025-05-30T13:32:08.140735Z",
     "iopub.status.idle": "2025-05-30T13:32:08.144442Z",
     "shell.execute_reply": "2025-05-30T13:32:08.143715Z"
    },
    "papermill": {
     "duration": 0.01408,
     "end_time": "2025-05-30T13:32:08.145752",
     "exception": false,
     "start_time": "2025-05-30T13:32:08.131672",
     "status": "completed"
    },
    "tags": []
   },
   "outputs": [],
   "source": [
    "from tqdm import tqdm"
   ]
  },
  {
   "cell_type": "code",
   "execution_count": 34,
   "id": "2e4fa896",
   "metadata": {
    "execution": {
     "iopub.execute_input": "2025-05-30T13:32:08.163845Z",
     "iopub.status.busy": "2025-05-30T13:32:08.163227Z",
     "iopub.status.idle": "2025-05-30T13:37:42.171408Z",
     "shell.execute_reply": "2025-05-30T13:37:42.170297Z"
    },
    "papermill": {
     "duration": 334.018934,
     "end_time": "2025-05-30T13:37:42.173063",
     "exception": false,
     "start_time": "2025-05-30T13:32:08.154129",
     "status": "completed"
    },
    "tags": []
   },
   "outputs": [
    {
     "name": "stderr",
     "output_type": "stream",
     "text": [
      "100%|██████████| 19926/19926 [05:33<00:00, 59.66it/s]\n"
     ]
    }
   ],
   "source": [
    "x = []\n",
    "for doc in tqdm(df.review.values):\n",
    "    x.append(doc_vec_mean(doc))"
   ]
  },
  {
   "cell_type": "code",
   "execution_count": 35,
   "id": "d3f9bb64",
   "metadata": {
    "execution": {
     "iopub.execute_input": "2025-05-30T13:37:42.426526Z",
     "iopub.status.busy": "2025-05-30T13:37:42.425750Z",
     "iopub.status.idle": "2025-05-30T13:37:42.449199Z",
     "shell.execute_reply": "2025-05-30T13:37:42.448363Z"
    },
    "papermill": {
     "duration": 0.151387,
     "end_time": "2025-05-30T13:37:42.450922",
     "exception": false,
     "start_time": "2025-05-30T13:37:42.299535",
     "status": "completed"
    },
    "tags": []
   },
   "outputs": [],
   "source": [
    "X = np.array(x)"
   ]
  },
  {
   "cell_type": "code",
   "execution_count": 36,
   "id": "3697c333",
   "metadata": {
    "execution": {
     "iopub.execute_input": "2025-05-30T13:37:42.700909Z",
     "iopub.status.busy": "2025-05-30T13:37:42.700387Z",
     "iopub.status.idle": "2025-05-30T13:37:42.706931Z",
     "shell.execute_reply": "2025-05-30T13:37:42.706295Z"
    },
    "papermill": {
     "duration": 0.132628,
     "end_time": "2025-05-30T13:37:42.708071",
     "exception": false,
     "start_time": "2025-05-30T13:37:42.575443",
     "status": "completed"
    },
    "tags": []
   },
   "outputs": [
    {
     "data": {
      "text/plain": [
       "array([-0.04904234,  0.28739426, -0.05715181, -0.05029223, -0.12523521,\n",
       "       -0.21274759,  0.23765929,  0.48283026, -0.27481642, -0.31787485,\n",
       "       -0.16688134, -0.23271343,  0.00693688, -0.16675086,  0.09290869,\n",
       "       -0.03995353,  0.19426419, -0.4723204 , -0.02759389, -0.8464609 ,\n",
       "        0.61313814,  0.01446403,  0.20907559, -0.32705036,  0.11175052,\n",
       "        0.14088032, -0.239317  ,  0.15493003, -0.13953942,  0.03145045,\n",
       "        0.2490843 ,  0.23398478,  0.27929863, -0.38429663, -0.5450526 ,\n",
       "        0.4686652 ,  0.25715736, -0.28633884, -0.6072729 , -0.29174998,\n",
       "       -0.01104889, -0.2525753 ,  0.00567628,  0.21638802,  0.03119891,\n",
       "       -0.22662576, -0.44119835, -0.2833529 ,  0.03170708,  0.3943665 ,\n",
       "        0.15863025, -0.39522108, -0.14318177,  0.0172774 , -0.3174193 ,\n",
       "        0.03701071,  0.18898591, -0.13338225, -0.7069913 ,  0.05894379,\n",
       "        0.04637599, -0.1255442 ,  0.24899237, -0.24140279, -0.30929425,\n",
       "        0.145621  ,  0.04668551,  0.6603996 , -0.65335613,  0.27136046,\n",
       "       -0.0268305 ,  0.04880165,  0.19820434,  0.19191025,  0.3184717 ,\n",
       "       -0.22554736,  0.02142457,  0.20710604, -0.30117872, -0.04558987,\n",
       "       -0.2705715 , -0.1614496 , -0.20943901,  0.3177491 , -0.23895131,\n",
       "       -0.05876614,  0.3738373 ,  0.44916147,  0.02802907, -0.19884059,\n",
       "        0.6965444 ,  0.12738442,  0.07623006,  0.15740198,  0.37690505,\n",
       "        0.18433769,  0.16026467, -0.3432227 ,  0.18541454,  0.06376588],\n",
       "      dtype=float32)"
      ]
     },
     "execution_count": 36,
     "metadata": {},
     "output_type": "execute_result"
    }
   ],
   "source": [
    "X[0]"
   ]
  },
  {
   "cell_type": "code",
   "execution_count": 37,
   "id": "17428164",
   "metadata": {
    "execution": {
     "iopub.execute_input": "2025-05-30T13:37:43.026243Z",
     "iopub.status.busy": "2025-05-30T13:37:43.025924Z",
     "iopub.status.idle": "2025-05-30T13:37:43.029825Z",
     "shell.execute_reply": "2025-05-30T13:37:43.029126Z"
    },
    "papermill": {
     "duration": 0.128346,
     "end_time": "2025-05-30T13:37:43.031130",
     "exception": false,
     "start_time": "2025-05-30T13:37:42.902784",
     "status": "completed"
    },
    "tags": []
   },
   "outputs": [],
   "source": [
    "from sklearn.preprocessing import LabelEncoder\n",
    "le = LabelEncoder()"
   ]
  },
  {
   "cell_type": "code",
   "execution_count": 38,
   "id": "3acfe802",
   "metadata": {
    "execution": {
     "iopub.execute_input": "2025-05-30T13:37:43.279419Z",
     "iopub.status.busy": "2025-05-30T13:37:43.279025Z",
     "iopub.status.idle": "2025-05-30T13:37:43.292799Z",
     "shell.execute_reply": "2025-05-30T13:37:43.291976Z"
    },
    "papermill": {
     "duration": 0.140133,
     "end_time": "2025-05-30T13:37:43.294397",
     "exception": false,
     "start_time": "2025-05-30T13:37:43.154264",
     "status": "completed"
    },
    "tags": []
   },
   "outputs": [],
   "source": [
    "X_train,X_test,y_train,y_test = train_test_split(X,y,test_size=0.2,random_state=1)"
   ]
  },
  {
   "cell_type": "code",
   "execution_count": 39,
   "id": "e79f2eb5",
   "metadata": {
    "execution": {
     "iopub.execute_input": "2025-05-30T13:37:43.547319Z",
     "iopub.status.busy": "2025-05-30T13:37:43.546910Z",
     "iopub.status.idle": "2025-05-30T13:37:43.555209Z",
     "shell.execute_reply": "2025-05-30T13:37:43.554458Z"
    },
    "papermill": {
     "duration": 0.137467,
     "end_time": "2025-05-30T13:37:43.556762",
     "exception": false,
     "start_time": "2025-05-30T13:37:43.419295",
     "status": "completed"
    },
    "tags": []
   },
   "outputs": [],
   "source": [
    "y_train = le.fit_transform(y_train)\n",
    "y_test = le.transform(y_test)"
   ]
  },
  {
   "cell_type": "code",
   "execution_count": 40,
   "id": "9776729d",
   "metadata": {
    "execution": {
     "iopub.execute_input": "2025-05-30T13:37:43.808974Z",
     "iopub.status.busy": "2025-05-30T13:37:43.808664Z",
     "iopub.status.idle": "2025-05-30T13:37:43.868201Z",
     "shell.execute_reply": "2025-05-30T13:37:43.867323Z"
    },
    "papermill": {
     "duration": 0.188664,
     "end_time": "2025-05-30T13:37:43.869565",
     "exception": false,
     "start_time": "2025-05-30T13:37:43.680901",
     "status": "completed"
    },
    "tags": []
   },
   "outputs": [
    {
     "data": {
      "text/plain": [
       "0.7669342699448068"
      ]
     },
     "execution_count": 40,
     "metadata": {},
     "output_type": "execute_result"
    }
   ],
   "source": [
    "GNB = GaussianNB()\n",
    "GNB.fit(X_train,y_train)\n",
    "y_pred = GNB.predict(X_test)\n",
    "accuracy_score(y_test,y_pred)"
   ]
  },
  {
   "cell_type": "code",
   "execution_count": 41,
   "id": "cb5c9c84",
   "metadata": {
    "execution": {
     "iopub.execute_input": "2025-05-30T13:37:44.117454Z",
     "iopub.status.busy": "2025-05-30T13:37:44.116669Z",
     "iopub.status.idle": "2025-05-30T13:38:02.066106Z",
     "shell.execute_reply": "2025-05-30T13:38:02.065176Z"
    },
    "papermill": {
     "duration": 18.0752,
     "end_time": "2025-05-30T13:38:02.067702",
     "exception": false,
     "start_time": "2025-05-30T13:37:43.992502",
     "status": "completed"
    },
    "tags": []
   },
   "outputs": [
    {
     "data": {
      "text/plain": [
       "0.8258906171600602"
      ]
     },
     "execution_count": 41,
     "metadata": {},
     "output_type": "execute_result"
    }
   ],
   "source": [
    "from sklearn.ensemble import RandomForestClassifier\n",
    "rf = RandomForestClassifier()\n",
    "rf.fit(X_train,y_train)\n",
    "y_pred2 = rf.predict(X_test)\n",
    "accuracy_score(y_test,y_pred2)"
   ]
  },
  {
   "cell_type": "code",
   "execution_count": 42,
   "id": "79d56274",
   "metadata": {
    "execution": {
     "iopub.execute_input": "2025-05-30T13:38:02.320978Z",
     "iopub.status.busy": "2025-05-30T13:38:02.320653Z",
     "iopub.status.idle": "2025-05-30T13:38:02.324498Z",
     "shell.execute_reply": "2025-05-30T13:38:02.323851Z"
    },
    "papermill": {
     "duration": 0.134705,
     "end_time": "2025-05-30T13:38:02.325755",
     "exception": false,
     "start_time": "2025-05-30T13:38:02.191050",
     "status": "completed"
    },
    "tags": []
   },
   "outputs": [],
   "source": [
    "from sklearn.model_selection import GridSearchCV"
   ]
  },
  {
   "cell_type": "code",
   "execution_count": 43,
   "id": "d4f5532a",
   "metadata": {
    "execution": {
     "iopub.execute_input": "2025-05-30T13:38:02.638124Z",
     "iopub.status.busy": "2025-05-30T13:38:02.637285Z",
     "iopub.status.idle": "2025-05-30T13:44:44.365136Z",
     "shell.execute_reply": "2025-05-30T13:44:44.364190Z"
    },
    "papermill": {
     "duration": 402.048133,
     "end_time": "2025-05-30T13:44:44.497889",
     "exception": false,
     "start_time": "2025-05-30T13:38:02.449756",
     "status": "completed"
    },
    "tags": []
   },
   "outputs": [
    {
     "name": "stdout",
     "output_type": "stream",
     "text": [
      "Fitting 5 folds for each of 4 candidates, totalling 20 fits\n",
      "[CV] END .....................max_depth=10, n_estimators=100; total time=  10.7s\n",
      "[CV] END .....................max_depth=10, n_estimators=100; total time=  10.7s\n",
      "[CV] END .....................max_depth=10, n_estimators=100; total time=  10.7s\n",
      "[CV] END .....................max_depth=10, n_estimators=100; total time=  10.7s\n",
      "[CV] END .....................max_depth=10, n_estimators=100; total time=  10.7s\n",
      "[CV] END .....................max_depth=10, n_estimators=200; total time=  21.5s\n",
      "[CV] END .....................max_depth=10, n_estimators=200; total time=  21.5s\n",
      "[CV] END .....................max_depth=10, n_estimators=200; total time=  21.4s\n",
      "[CV] END .....................max_depth=10, n_estimators=200; total time=  21.5s\n",
      "[CV] END .....................max_depth=10, n_estimators=200; total time=  21.5s\n",
      "[CV] END .....................max_depth=20, n_estimators=100; total time=  13.6s\n",
      "[CV] END .....................max_depth=20, n_estimators=100; total time=  13.6s\n",
      "[CV] END .....................max_depth=20, n_estimators=100; total time=  13.5s\n",
      "[CV] END .....................max_depth=20, n_estimators=100; total time=  15.3s\n",
      "[CV] END .....................max_depth=20, n_estimators=100; total time=  14.4s\n",
      "[CV] END .....................max_depth=20, n_estimators=200; total time=  27.2s\n",
      "[CV] END .....................max_depth=20, n_estimators=200; total time=  27.0s\n",
      "[CV] END .....................max_depth=20, n_estimators=200; total time=  27.1s\n",
      "[CV] END .....................max_depth=20, n_estimators=200; total time=  27.1s\n",
      "[CV] END .....................max_depth=20, n_estimators=200; total time=  27.1s\n"
     ]
    },
    {
     "data": {
      "text/html": [
       "<style>#sk-container-id-2 {color: black;background-color: white;}#sk-container-id-2 pre{padding: 0;}#sk-container-id-2 div.sk-toggleable {background-color: white;}#sk-container-id-2 label.sk-toggleable__label {cursor: pointer;display: block;width: 100%;margin-bottom: 0;padding: 0.3em;box-sizing: border-box;text-align: center;}#sk-container-id-2 label.sk-toggleable__label-arrow:before {content: \"▸\";float: left;margin-right: 0.25em;color: #696969;}#sk-container-id-2 label.sk-toggleable__label-arrow:hover:before {color: black;}#sk-container-id-2 div.sk-estimator:hover label.sk-toggleable__label-arrow:before {color: black;}#sk-container-id-2 div.sk-toggleable__content {max-height: 0;max-width: 0;overflow: hidden;text-align: left;background-color: #f0f8ff;}#sk-container-id-2 div.sk-toggleable__content pre {margin: 0.2em;color: black;border-radius: 0.25em;background-color: #f0f8ff;}#sk-container-id-2 input.sk-toggleable__control:checked~div.sk-toggleable__content {max-height: 200px;max-width: 100%;overflow: auto;}#sk-container-id-2 input.sk-toggleable__control:checked~label.sk-toggleable__label-arrow:before {content: \"▾\";}#sk-container-id-2 div.sk-estimator input.sk-toggleable__control:checked~label.sk-toggleable__label {background-color: #d4ebff;}#sk-container-id-2 div.sk-label input.sk-toggleable__control:checked~label.sk-toggleable__label {background-color: #d4ebff;}#sk-container-id-2 input.sk-hidden--visually {border: 0;clip: rect(1px 1px 1px 1px);clip: rect(1px, 1px, 1px, 1px);height: 1px;margin: -1px;overflow: hidden;padding: 0;position: absolute;width: 1px;}#sk-container-id-2 div.sk-estimator {font-family: monospace;background-color: #f0f8ff;border: 1px dotted black;border-radius: 0.25em;box-sizing: border-box;margin-bottom: 0.5em;}#sk-container-id-2 div.sk-estimator:hover {background-color: #d4ebff;}#sk-container-id-2 div.sk-parallel-item::after {content: \"\";width: 100%;border-bottom: 1px solid gray;flex-grow: 1;}#sk-container-id-2 div.sk-label:hover label.sk-toggleable__label {background-color: #d4ebff;}#sk-container-id-2 div.sk-serial::before {content: \"\";position: absolute;border-left: 1px solid gray;box-sizing: border-box;top: 0;bottom: 0;left: 50%;z-index: 0;}#sk-container-id-2 div.sk-serial {display: flex;flex-direction: column;align-items: center;background-color: white;padding-right: 0.2em;padding-left: 0.2em;position: relative;}#sk-container-id-2 div.sk-item {position: relative;z-index: 1;}#sk-container-id-2 div.sk-parallel {display: flex;align-items: stretch;justify-content: center;background-color: white;position: relative;}#sk-container-id-2 div.sk-item::before, #sk-container-id-2 div.sk-parallel-item::before {content: \"\";position: absolute;border-left: 1px solid gray;box-sizing: border-box;top: 0;bottom: 0;left: 50%;z-index: -1;}#sk-container-id-2 div.sk-parallel-item {display: flex;flex-direction: column;z-index: 1;position: relative;background-color: white;}#sk-container-id-2 div.sk-parallel-item:first-child::after {align-self: flex-end;width: 50%;}#sk-container-id-2 div.sk-parallel-item:last-child::after {align-self: flex-start;width: 50%;}#sk-container-id-2 div.sk-parallel-item:only-child::after {width: 0;}#sk-container-id-2 div.sk-dashed-wrapped {border: 1px dashed gray;margin: 0 0.4em 0.5em 0.4em;box-sizing: border-box;padding-bottom: 0.4em;background-color: white;}#sk-container-id-2 div.sk-label label {font-family: monospace;font-weight: bold;display: inline-block;line-height: 1.2em;}#sk-container-id-2 div.sk-label-container {text-align: center;}#sk-container-id-2 div.sk-container {/* jupyter's `normalize.less` sets `[hidden] { display: none; }` but bootstrap.min.css set `[hidden] { display: none !important; }` so we also need the `!important` here to be able to override the default hidden behavior on the sphinx rendered scikit-learn.org. See: https://github.com/scikit-learn/scikit-learn/issues/21755 */display: inline-block !important;position: relative;}#sk-container-id-2 div.sk-text-repr-fallback {display: none;}</style><div id=\"sk-container-id-2\" class=\"sk-top-container\"><div class=\"sk-text-repr-fallback\"><pre>GridSearchCV(cv=5, estimator=RandomForestClassifier(),\n",
       "             param_grid={&#x27;max_depth&#x27;: [10, 20], &#x27;n_estimators&#x27;: [100, 200]},\n",
       "             verbose=2)</pre><b>In a Jupyter environment, please rerun this cell to show the HTML representation or trust the notebook. <br />On GitHub, the HTML representation is unable to render, please try loading this page with nbviewer.org.</b></div><div class=\"sk-container\" hidden><div class=\"sk-item sk-dashed-wrapped\"><div class=\"sk-label-container\"><div class=\"sk-label sk-toggleable\"><input class=\"sk-toggleable__control sk-hidden--visually\" id=\"sk-estimator-id-2\" type=\"checkbox\" ><label for=\"sk-estimator-id-2\" class=\"sk-toggleable__label sk-toggleable__label-arrow\">GridSearchCV</label><div class=\"sk-toggleable__content\"><pre>GridSearchCV(cv=5, estimator=RandomForestClassifier(),\n",
       "             param_grid={&#x27;max_depth&#x27;: [10, 20], &#x27;n_estimators&#x27;: [100, 200]},\n",
       "             verbose=2)</pre></div></div></div><div class=\"sk-parallel\"><div class=\"sk-parallel-item\"><div class=\"sk-item\"><div class=\"sk-label-container\"><div class=\"sk-label sk-toggleable\"><input class=\"sk-toggleable__control sk-hidden--visually\" id=\"sk-estimator-id-3\" type=\"checkbox\" ><label for=\"sk-estimator-id-3\" class=\"sk-toggleable__label sk-toggleable__label-arrow\">estimator: RandomForestClassifier</label><div class=\"sk-toggleable__content\"><pre>RandomForestClassifier()</pre></div></div></div><div class=\"sk-serial\"><div class=\"sk-item\"><div class=\"sk-estimator sk-toggleable\"><input class=\"sk-toggleable__control sk-hidden--visually\" id=\"sk-estimator-id-4\" type=\"checkbox\" ><label for=\"sk-estimator-id-4\" class=\"sk-toggleable__label sk-toggleable__label-arrow\">RandomForestClassifier</label><div class=\"sk-toggleable__content\"><pre>RandomForestClassifier()</pre></div></div></div></div></div></div></div></div></div></div>"
      ],
      "text/plain": [
       "GridSearchCV(cv=5, estimator=RandomForestClassifier(),\n",
       "             param_grid={'max_depth': [10, 20], 'n_estimators': [100, 200]},\n",
       "             verbose=2)"
      ]
     },
     "execution_count": 43,
     "metadata": {},
     "output_type": "execute_result"
    }
   ],
   "source": [
    "from sklearn.ensemble import RandomForestClassifier\n",
    "from sklearn.model_selection import GridSearchCV\n",
    "\n",
    "params = {\n",
    "    'n_estimators': [100, 200],\n",
    "    'max_depth': [10, 20]\n",
    "}\n",
    "\n",
    "gcv = GridSearchCV(\n",
    "    estimator=RandomForestClassifier(),\n",
    "    param_grid=params,\n",
    "    cv=5,                # ✅ 5-fold cross-validation\n",
    "    verbose=2\n",
    ")\n",
    "\n",
    "gcv.fit(X_train, y_train)\n"
   ]
  },
  {
   "cell_type": "code",
   "execution_count": 44,
   "id": "f5713354",
   "metadata": {
    "execution": {
     "iopub.execute_input": "2025-05-30T13:44:44.750922Z",
     "iopub.status.busy": "2025-05-30T13:44:44.750521Z",
     "iopub.status.idle": "2025-05-30T13:44:44.756653Z",
     "shell.execute_reply": "2025-05-30T13:44:44.755804Z"
    },
    "papermill": {
     "duration": 0.134444,
     "end_time": "2025-05-30T13:44:44.757993",
     "exception": false,
     "start_time": "2025-05-30T13:44:44.623549",
     "status": "completed"
    },
    "tags": []
   },
   "outputs": [
    {
     "data": {
      "text/plain": [
       "{'max_depth': 20, 'n_estimators': 200}"
      ]
     },
     "execution_count": 44,
     "metadata": {},
     "output_type": "execute_result"
    }
   ],
   "source": [
    "gcv.best_params_"
   ]
  },
  {
   "cell_type": "code",
   "execution_count": 45,
   "id": "2ae5783d",
   "metadata": {
    "execution": {
     "iopub.execute_input": "2025-05-30T13:44:45.008758Z",
     "iopub.status.busy": "2025-05-30T13:44:45.008105Z",
     "iopub.status.idle": "2025-05-30T13:44:58.649241Z",
     "shell.execute_reply": "2025-05-30T13:44:58.648345Z"
    },
    "papermill": {
     "duration": 13.768954,
     "end_time": "2025-05-30T13:44:58.650926",
     "exception": false,
     "start_time": "2025-05-30T13:44:44.881972",
     "status": "completed"
    },
    "tags": []
   },
   "outputs": [
    {
     "data": {
      "text/plain": [
       "0.8291520321123934"
      ]
     },
     "execution_count": 45,
     "metadata": {},
     "output_type": "execute_result"
    }
   ],
   "source": [
    "rf2 = RandomForestClassifier(max_depth= 10, n_estimators= 100)\n",
    "rf2.fit(X_train,y_train)\n",
    "y_pred3 = rf2.predict(X_test)\n",
    "accuracy_score(y_pred3,y_test)"
   ]
  },
  {
   "cell_type": "code",
   "execution_count": null,
   "id": "1554cac7",
   "metadata": {
    "papermill": {
     "duration": 0.21453,
     "end_time": "2025-05-30T13:44:58.994200",
     "exception": false,
     "start_time": "2025-05-30T13:44:58.779670",
     "status": "completed"
    },
    "tags": []
   },
   "outputs": [],
   "source": []
  }
 ],
 "metadata": {
  "kaggle": {
   "accelerator": "none",
   "dataSources": [
    {
     "datasetId": 134715,
     "sourceId": 320111,
     "sourceType": "datasetVersion"
    }
   ],
   "dockerImageVersionId": 31040,
   "isGpuEnabled": false,
   "isInternetEnabled": false,
   "language": "python",
   "sourceType": "notebook"
  },
  "kernelspec": {
   "display_name": "Python 3",
   "language": "python",
   "name": "python3"
  },
  "language_info": {
   "codemirror_mode": {
    "name": "ipython",
    "version": 3
   },
   "file_extension": ".py",
   "mimetype": "text/x-python",
   "name": "python",
   "nbconvert_exporter": "python",
   "pygments_lexer": "ipython3",
   "version": "3.11.11"
  },
  "papermill": {
   "default_parameters": {},
   "duration": 881.851651,
   "end_time": "2025-05-30T13:45:02.487511",
   "environment_variables": {},
   "exception": null,
   "input_path": "__notebook__.ipynb",
   "output_path": "__notebook__.ipynb",
   "parameters": {},
   "start_time": "2025-05-30T13:30:20.635860",
   "version": "2.6.0"
  }
 },
 "nbformat": 4,
 "nbformat_minor": 5
}
