{
 "cells": [
  {
   "cell_type": "code",
   "execution_count": 1,
   "id": "de0d61b5",
   "metadata": {
    "_cell_guid": "b1076dfc-b9ad-4769-8c92-a6c4dae69d19",
    "_uuid": "8f2839f25d086af736a60e9eeb907d3b93b6e0e5",
    "execution": {
     "iopub.execute_input": "2025-05-31T16:45:58.666927Z",
     "iopub.status.busy": "2025-05-31T16:45:58.666578Z",
     "iopub.status.idle": "2025-05-31T16:46:00.557477Z",
     "shell.execute_reply": "2025-05-31T16:46:00.556367Z"
    },
    "papermill": {
     "duration": 1.899004,
     "end_time": "2025-05-31T16:46:00.559222",
     "exception": false,
     "start_time": "2025-05-31T16:45:58.660218",
     "status": "completed"
    },
    "tags": []
   },
   "outputs": [
    {
     "name": "stdout",
     "output_type": "stream",
     "text": [
      "/kaggle/input/flipkart-fasion-products-dataset/output.xlsx\n",
      "/kaggle/input/flipkart-fasion-products-dataset/flipkart_fashion_products_dataset.json\n",
      "/kaggle/input/ecommerce/ecommerce_dataset.csv\n"
     ]
    }
   ],
   "source": [
    "# This Python 3 environment comes with many helpful analytics libraries installed\n",
    "# It is defined by the kaggle/python Docker image: https://github.com/kaggle/docker-python\n",
    "# For example, here's several helpful packages to load\n",
    "\n",
    "import numpy as np # linear algebra\n",
    "import pandas as pd # data processing, CSV file I/O (e.g. pd.read_csv)\n",
    "\n",
    "# Input data files are available in the read-only \"../input/\" directory\n",
    "# For example, running this (by clicking run or pressing Shift+Enter) will list all files under the input directory\n",
    "\n",
    "import os\n",
    "for dirname, _, filenames in os.walk('/kaggle/input'):\n",
    "    for filename in filenames:\n",
    "        print(os.path.join(dirname, filename))\n",
    "\n",
    "# You can write up to 20GB to the current directory (/kaggle/working/) that gets preserved as output when you create a version using \"Save & Run All\" \n",
    "# You can also write temporary files to /kaggle/temp/, but they won't be saved outside of the current session"
   ]
  },
  {
   "cell_type": "code",
   "execution_count": 2,
   "id": "d12c6280",
   "metadata": {
    "execution": {
     "iopub.execute_input": "2025-05-31T16:46:00.569690Z",
     "iopub.status.busy": "2025-05-31T16:46:00.569243Z",
     "iopub.status.idle": "2025-05-31T16:46:01.652400Z",
     "shell.execute_reply": "2025-05-31T16:46:01.651468Z"
    },
    "papermill": {
     "duration": 1.089916,
     "end_time": "2025-05-31T16:46:01.653758",
     "exception": false,
     "start_time": "2025-05-31T16:46:00.563842",
     "status": "completed"
    },
    "tags": []
   },
   "outputs": [
    {
     "name": "stdout",
     "output_type": "stream",
     "text": [
      "(50425, 2)\n"
     ]
    },
    {
     "data": {
      "text/html": [
       "<div>\n",
       "<style scoped>\n",
       "    .dataframe tbody tr th:only-of-type {\n",
       "        vertical-align: middle;\n",
       "    }\n",
       "\n",
       "    .dataframe tbody tr th {\n",
       "        vertical-align: top;\n",
       "    }\n",
       "\n",
       "    .dataframe thead th {\n",
       "        text-align: right;\n",
       "    }\n",
       "</style>\n",
       "<table border=\"1\" class=\"dataframe\">\n",
       "  <thead>\n",
       "    <tr style=\"text-align: right;\">\n",
       "      <th></th>\n",
       "      <th>category</th>\n",
       "      <th>description</th>\n",
       "    </tr>\n",
       "  </thead>\n",
       "  <tbody>\n",
       "    <tr>\n",
       "      <th>0</th>\n",
       "      <td>Household</td>\n",
       "      <td>Paper Plane Design Framed Wall Hanging Motivat...</td>\n",
       "    </tr>\n",
       "    <tr>\n",
       "      <th>1</th>\n",
       "      <td>Household</td>\n",
       "      <td>SAF 'Floral' Framed Painting (Wood, 30 inch x ...</td>\n",
       "    </tr>\n",
       "    <tr>\n",
       "      <th>2</th>\n",
       "      <td>Household</td>\n",
       "      <td>SAF 'UV Textured Modern Art Print Framed' Pain...</td>\n",
       "    </tr>\n",
       "    <tr>\n",
       "      <th>3</th>\n",
       "      <td>Household</td>\n",
       "      <td>SAF Flower Print Framed Painting (Synthetic, 1...</td>\n",
       "    </tr>\n",
       "    <tr>\n",
       "      <th>4</th>\n",
       "      <td>Household</td>\n",
       "      <td>Incredible Gifts India Wooden Happy Birthday U...</td>\n",
       "    </tr>\n",
       "  </tbody>\n",
       "</table>\n",
       "</div>"
      ],
      "text/plain": [
       "    category                                        description\n",
       "0  Household  Paper Plane Design Framed Wall Hanging Motivat...\n",
       "1  Household  SAF 'Floral' Framed Painting (Wood, 30 inch x ...\n",
       "2  Household  SAF 'UV Textured Modern Art Print Framed' Pain...\n",
       "3  Household  SAF Flower Print Framed Painting (Synthetic, 1...\n",
       "4  Household  Incredible Gifts India Wooden Happy Birthday U..."
      ]
     },
     "execution_count": 2,
     "metadata": {},
     "output_type": "execute_result"
    }
   ],
   "source": [
    "df = pd.read_csv('/kaggle/input/ecommerce/ecommerce_dataset.csv',names=['category','description'],header=None)\n",
    "print(df.shape)\n",
    "df.head()"
   ]
  },
  {
   "cell_type": "code",
   "execution_count": 3,
   "id": "d2daf391",
   "metadata": {
    "execution": {
     "iopub.execute_input": "2025-05-31T16:46:01.664782Z",
     "iopub.status.busy": "2025-05-31T16:46:01.664097Z",
     "iopub.status.idle": "2025-05-31T16:46:01.680536Z",
     "shell.execute_reply": "2025-05-31T16:46:01.679826Z"
    },
    "papermill": {
     "duration": 0.023205,
     "end_time": "2025-05-31T16:46:01.681902",
     "exception": false,
     "start_time": "2025-05-31T16:46:01.658697",
     "status": "completed"
    },
    "tags": []
   },
   "outputs": [
    {
     "data": {
      "text/plain": [
       "category\n",
       "Household                 19313\n",
       "Books                     11820\n",
       "Electronics               10621\n",
       "Clothing & Accessories     8671\n",
       "Name: count, dtype: int64"
      ]
     },
     "execution_count": 3,
     "metadata": {},
     "output_type": "execute_result"
    }
   ],
   "source": [
    "df.category.value_counts()"
   ]
  },
  {
   "cell_type": "code",
   "execution_count": 4,
   "id": "bf5ddfa0",
   "metadata": {
    "execution": {
     "iopub.execute_input": "2025-05-31T16:46:01.691885Z",
     "iopub.status.busy": "2025-05-31T16:46:01.691548Z",
     "iopub.status.idle": "2025-05-31T16:46:01.713292Z",
     "shell.execute_reply": "2025-05-31T16:46:01.712390Z"
    },
    "papermill": {
     "duration": 0.028427,
     "end_time": "2025-05-31T16:46:01.714877",
     "exception": false,
     "start_time": "2025-05-31T16:46:01.686450",
     "status": "completed"
    },
    "tags": []
   },
   "outputs": [
    {
     "data": {
      "text/plain": [
       "(50424, 2)"
      ]
     },
     "execution_count": 4,
     "metadata": {},
     "output_type": "execute_result"
    }
   ],
   "source": [
    "df.dropna(inplace=True)\n",
    "df.shape"
   ]
  },
  {
   "cell_type": "code",
   "execution_count": 5,
   "id": "aeb020d2",
   "metadata": {
    "execution": {
     "iopub.execute_input": "2025-05-31T16:46:01.725367Z",
     "iopub.status.busy": "2025-05-31T16:46:01.725059Z",
     "iopub.status.idle": "2025-05-31T16:46:01.735330Z",
     "shell.execute_reply": "2025-05-31T16:46:01.734308Z"
    },
    "papermill": {
     "duration": 0.017242,
     "end_time": "2025-05-31T16:46:01.736749",
     "exception": false,
     "start_time": "2025-05-31T16:46:01.719507",
     "status": "completed"
    },
    "tags": []
   },
   "outputs": [
    {
     "name": "stderr",
     "output_type": "stream",
     "text": [
      "/tmp/ipykernel_13/2912538940.py:1: FutureWarning: A value is trying to be set on a copy of a DataFrame or Series through chained assignment using an inplace method.\n",
      "The behavior will change in pandas 3.0. This inplace method will never work because the intermediate object on which we are setting values always behaves as a copy.\n",
      "\n",
      "For example, when doing 'df[col].method(value, inplace=True)', try using 'df.method({col: value}, inplace=True)' or df[col] = df[col].method(value) instead, to perform the operation inplace on the original object.\n",
      "\n",
      "\n",
      "  df.category.replace(\"Clothing & Accessories\", \"Clothing_Accessories\", inplace=True)\n"
     ]
    }
   ],
   "source": [
    "df.category.replace(\"Clothing & Accessories\", \"Clothing_Accessories\", inplace=True)"
   ]
  },
  {
   "cell_type": "code",
   "execution_count": 6,
   "id": "55bb4e16",
   "metadata": {
    "execution": {
     "iopub.execute_input": "2025-05-31T16:46:01.747807Z",
     "iopub.status.busy": "2025-05-31T16:46:01.747477Z",
     "iopub.status.idle": "2025-05-31T16:46:01.757796Z",
     "shell.execute_reply": "2025-05-31T16:46:01.757000Z"
    },
    "papermill": {
     "duration": 0.01768,
     "end_time": "2025-05-31T16:46:01.759199",
     "exception": false,
     "start_time": "2025-05-31T16:46:01.741519",
     "status": "completed"
    },
    "tags": []
   },
   "outputs": [
    {
     "data": {
      "text/plain": [
       "array(['Household', 'Books', 'Clothing_Accessories', 'Electronics'],\n",
       "      dtype=object)"
      ]
     },
     "execution_count": 6,
     "metadata": {},
     "output_type": "execute_result"
    }
   ],
   "source": [
    "\n",
    "df.category.unique()"
   ]
  },
  {
   "cell_type": "code",
   "execution_count": 7,
   "id": "4d144cff",
   "metadata": {
    "execution": {
     "iopub.execute_input": "2025-05-31T16:46:01.770175Z",
     "iopub.status.busy": "2025-05-31T16:46:01.769884Z",
     "iopub.status.idle": "2025-05-31T16:46:01.786263Z",
     "shell.execute_reply": "2025-05-31T16:46:01.785553Z"
    },
    "papermill": {
     "duration": 0.023637,
     "end_time": "2025-05-31T16:46:01.787743",
     "exception": false,
     "start_time": "2025-05-31T16:46:01.764106",
     "status": "completed"
    },
    "tags": []
   },
   "outputs": [
    {
     "data": {
      "text/html": [
       "<div>\n",
       "<style scoped>\n",
       "    .dataframe tbody tr th:only-of-type {\n",
       "        vertical-align: middle;\n",
       "    }\n",
       "\n",
       "    .dataframe tbody tr th {\n",
       "        vertical-align: top;\n",
       "    }\n",
       "\n",
       "    .dataframe thead th {\n",
       "        text-align: right;\n",
       "    }\n",
       "</style>\n",
       "<table border=\"1\" class=\"dataframe\">\n",
       "  <thead>\n",
       "    <tr style=\"text-align: right;\">\n",
       "      <th></th>\n",
       "      <th>category</th>\n",
       "      <th>description</th>\n",
       "    </tr>\n",
       "  </thead>\n",
       "  <tbody>\n",
       "    <tr>\n",
       "      <th>0</th>\n",
       "      <td>__label__Household</td>\n",
       "      <td>Paper Plane Design Framed Wall Hanging Motivat...</td>\n",
       "    </tr>\n",
       "    <tr>\n",
       "      <th>1</th>\n",
       "      <td>__label__Household</td>\n",
       "      <td>SAF 'Floral' Framed Painting (Wood, 30 inch x ...</td>\n",
       "    </tr>\n",
       "    <tr>\n",
       "      <th>2</th>\n",
       "      <td>__label__Household</td>\n",
       "      <td>SAF 'UV Textured Modern Art Print Framed' Pain...</td>\n",
       "    </tr>\n",
       "    <tr>\n",
       "      <th>3</th>\n",
       "      <td>__label__Household</td>\n",
       "      <td>SAF Flower Print Framed Painting (Synthetic, 1...</td>\n",
       "    </tr>\n",
       "    <tr>\n",
       "      <th>4</th>\n",
       "      <td>__label__Household</td>\n",
       "      <td>Incredible Gifts India Wooden Happy Birthday U...</td>\n",
       "    </tr>\n",
       "  </tbody>\n",
       "</table>\n",
       "</div>"
      ],
      "text/plain": [
       "             category                                        description\n",
       "0  __label__Household  Paper Plane Design Framed Wall Hanging Motivat...\n",
       "1  __label__Household  SAF 'Floral' Framed Painting (Wood, 30 inch x ...\n",
       "2  __label__Household  SAF 'UV Textured Modern Art Print Framed' Pain...\n",
       "3  __label__Household  SAF Flower Print Framed Painting (Synthetic, 1...\n",
       "4  __label__Household  Incredible Gifts India Wooden Happy Birthday U..."
      ]
     },
     "execution_count": 7,
     "metadata": {},
     "output_type": "execute_result"
    }
   ],
   "source": [
    "df['category'] = '__label__' + df['category'].astype(str)\n",
    "df.head(5)"
   ]
  },
  {
   "cell_type": "code",
   "execution_count": 8,
   "id": "cc5bfb12",
   "metadata": {
    "execution": {
     "iopub.execute_input": "2025-05-31T16:46:01.798743Z",
     "iopub.status.busy": "2025-05-31T16:46:01.798353Z",
     "iopub.status.idle": "2025-05-31T16:46:01.870230Z",
     "shell.execute_reply": "2025-05-31T16:46:01.869474Z"
    },
    "papermill": {
     "duration": 0.078896,
     "end_time": "2025-05-31T16:46:01.871599",
     "exception": false,
     "start_time": "2025-05-31T16:46:01.792703",
     "status": "completed"
    },
    "tags": []
   },
   "outputs": [
    {
     "data": {
      "text/html": [
       "<div>\n",
       "<style scoped>\n",
       "    .dataframe tbody tr th:only-of-type {\n",
       "        vertical-align: middle;\n",
       "    }\n",
       "\n",
       "    .dataframe tbody tr th {\n",
       "        vertical-align: top;\n",
       "    }\n",
       "\n",
       "    .dataframe thead th {\n",
       "        text-align: right;\n",
       "    }\n",
       "</style>\n",
       "<table border=\"1\" class=\"dataframe\">\n",
       "  <thead>\n",
       "    <tr style=\"text-align: right;\">\n",
       "      <th></th>\n",
       "      <th>category</th>\n",
       "      <th>description</th>\n",
       "      <th>category_description</th>\n",
       "    </tr>\n",
       "  </thead>\n",
       "  <tbody>\n",
       "    <tr>\n",
       "      <th>0</th>\n",
       "      <td>__label__Household</td>\n",
       "      <td>Paper Plane Design Framed Wall Hanging Motivat...</td>\n",
       "      <td>__label__Household Paper Plane Design Framed W...</td>\n",
       "    </tr>\n",
       "    <tr>\n",
       "      <th>1</th>\n",
       "      <td>__label__Household</td>\n",
       "      <td>SAF 'Floral' Framed Painting (Wood, 30 inch x ...</td>\n",
       "      <td>__label__Household SAF 'Floral' Framed Paintin...</td>\n",
       "    </tr>\n",
       "    <tr>\n",
       "      <th>2</th>\n",
       "      <td>__label__Household</td>\n",
       "      <td>SAF 'UV Textured Modern Art Print Framed' Pain...</td>\n",
       "      <td>__label__Household SAF 'UV Textured Modern Art...</td>\n",
       "    </tr>\n",
       "  </tbody>\n",
       "</table>\n",
       "</div>"
      ],
      "text/plain": [
       "             category                                        description  \\\n",
       "0  __label__Household  Paper Plane Design Framed Wall Hanging Motivat...   \n",
       "1  __label__Household  SAF 'Floral' Framed Painting (Wood, 30 inch x ...   \n",
       "2  __label__Household  SAF 'UV Textured Modern Art Print Framed' Pain...   \n",
       "\n",
       "                                category_description  \n",
       "0  __label__Household Paper Plane Design Framed W...  \n",
       "1  __label__Household SAF 'Floral' Framed Paintin...  \n",
       "2  __label__Household SAF 'UV Textured Modern Art...  "
      ]
     },
     "execution_count": 8,
     "metadata": {},
     "output_type": "execute_result"
    }
   ],
   "source": [
    "df['category_description'] = df['category'] + ' ' + df['description']\n",
    "df.head(3)"
   ]
  },
  {
   "cell_type": "markdown",
   "id": "2fdc8ff1",
   "metadata": {
    "papermill": {
     "duration": 0.004524,
     "end_time": "2025-05-31T16:46:01.881113",
     "exception": false,
     "start_time": "2025-05-31T16:46:01.876589",
     "status": "completed"
    },
    "tags": []
   },
   "source": [
    "**Preprocessing**"
   ]
  },
  {
   "cell_type": "markdown",
   "id": "48a9ace4",
   "metadata": {
    "papermill": {
     "duration": 0.005023,
     "end_time": "2025-05-31T16:46:01.890785",
     "exception": false,
     "start_time": "2025-05-31T16:46:01.885762",
     "status": "completed"
    },
    "tags": []
   },
   "source": [
    "1.Remove punctuation\n",
    "2.Remove extra space\n",
    "3.Make the entire sentence lower case"
   ]
  },
  {
   "cell_type": "code",
   "execution_count": 9,
   "id": "9e643419",
   "metadata": {
    "execution": {
     "iopub.execute_input": "2025-05-31T16:46:01.901359Z",
     "iopub.status.busy": "2025-05-31T16:46:01.901062Z",
     "iopub.status.idle": "2025-05-31T16:46:01.904979Z",
     "shell.execute_reply": "2025-05-31T16:46:01.904243Z"
    },
    "papermill": {
     "duration": 0.010911,
     "end_time": "2025-05-31T16:46:01.906298",
     "exception": false,
     "start_time": "2025-05-31T16:46:01.895387",
     "status": "completed"
    },
    "tags": []
   },
   "outputs": [],
   "source": [
    "import re"
   ]
  },
  {
   "cell_type": "code",
   "execution_count": 10,
   "id": "c6d89dde",
   "metadata": {
    "execution": {
     "iopub.execute_input": "2025-05-31T16:46:01.919150Z",
     "iopub.status.busy": "2025-05-31T16:46:01.918843Z",
     "iopub.status.idle": "2025-05-31T16:46:01.923967Z",
     "shell.execute_reply": "2025-05-31T16:46:01.922887Z"
    },
    "papermill": {
     "duration": 0.013448,
     "end_time": "2025-05-31T16:46:01.925677",
     "exception": false,
     "start_time": "2025-05-31T16:46:01.912229",
     "status": "completed"
    },
    "tags": []
   },
   "outputs": [],
   "source": [
    "def preprocess(text):\n",
    "    text = re.sub(r'[^\\w\\s\\']',' ', text)\n",
    "    text = re.sub(' +', ' ', text)\n",
    "    return text.strip().lower() "
   ]
  },
  {
   "cell_type": "code",
   "execution_count": 11,
   "id": "f3998b0c",
   "metadata": {
    "execution": {
     "iopub.execute_input": "2025-05-31T16:46:01.936453Z",
     "iopub.status.busy": "2025-05-31T16:46:01.936149Z",
     "iopub.status.idle": "2025-05-31T16:46:05.101481Z",
     "shell.execute_reply": "2025-05-31T16:46:05.100503Z"
    },
    "papermill": {
     "duration": 3.172484,
     "end_time": "2025-05-31T16:46:05.103007",
     "exception": false,
     "start_time": "2025-05-31T16:46:01.930523",
     "status": "completed"
    },
    "tags": []
   },
   "outputs": [
    {
     "data": {
      "text/html": [
       "<div>\n",
       "<style scoped>\n",
       "    .dataframe tbody tr th:only-of-type {\n",
       "        vertical-align: middle;\n",
       "    }\n",
       "\n",
       "    .dataframe tbody tr th {\n",
       "        vertical-align: top;\n",
       "    }\n",
       "\n",
       "    .dataframe thead th {\n",
       "        text-align: right;\n",
       "    }\n",
       "</style>\n",
       "<table border=\"1\" class=\"dataframe\">\n",
       "  <thead>\n",
       "    <tr style=\"text-align: right;\">\n",
       "      <th></th>\n",
       "      <th>category</th>\n",
       "      <th>description</th>\n",
       "      <th>category_description</th>\n",
       "    </tr>\n",
       "  </thead>\n",
       "  <tbody>\n",
       "    <tr>\n",
       "      <th>0</th>\n",
       "      <td>__label__Household</td>\n",
       "      <td>Paper Plane Design Framed Wall Hanging Motivat...</td>\n",
       "      <td>__label__household paper plane design framed w...</td>\n",
       "    </tr>\n",
       "    <tr>\n",
       "      <th>1</th>\n",
       "      <td>__label__Household</td>\n",
       "      <td>SAF 'Floral' Framed Painting (Wood, 30 inch x ...</td>\n",
       "      <td>__label__household saf 'floral' framed paintin...</td>\n",
       "    </tr>\n",
       "    <tr>\n",
       "      <th>2</th>\n",
       "      <td>__label__Household</td>\n",
       "      <td>SAF 'UV Textured Modern Art Print Framed' Pain...</td>\n",
       "      <td>__label__household saf 'uv textured modern art...</td>\n",
       "    </tr>\n",
       "    <tr>\n",
       "      <th>3</th>\n",
       "      <td>__label__Household</td>\n",
       "      <td>SAF Flower Print Framed Painting (Synthetic, 1...</td>\n",
       "      <td>__label__household saf flower print framed pai...</td>\n",
       "    </tr>\n",
       "    <tr>\n",
       "      <th>4</th>\n",
       "      <td>__label__Household</td>\n",
       "      <td>Incredible Gifts India Wooden Happy Birthday U...</td>\n",
       "      <td>__label__household incredible gifts india wood...</td>\n",
       "    </tr>\n",
       "  </tbody>\n",
       "</table>\n",
       "</div>"
      ],
      "text/plain": [
       "             category                                        description  \\\n",
       "0  __label__Household  Paper Plane Design Framed Wall Hanging Motivat...   \n",
       "1  __label__Household  SAF 'Floral' Framed Painting (Wood, 30 inch x ...   \n",
       "2  __label__Household  SAF 'UV Textured Modern Art Print Framed' Pain...   \n",
       "3  __label__Household  SAF Flower Print Framed Painting (Synthetic, 1...   \n",
       "4  __label__Household  Incredible Gifts India Wooden Happy Birthday U...   \n",
       "\n",
       "                                category_description  \n",
       "0  __label__household paper plane design framed w...  \n",
       "1  __label__household saf 'floral' framed paintin...  \n",
       "2  __label__household saf 'uv textured modern art...  \n",
       "3  __label__household saf flower print framed pai...  \n",
       "4  __label__household incredible gifts india wood...  "
      ]
     },
     "execution_count": 11,
     "metadata": {},
     "output_type": "execute_result"
    }
   ],
   "source": [
    "df['category_description'] = df['category_description'].map(preprocess)\n",
    "df.head()"
   ]
  },
  {
   "cell_type": "code",
   "execution_count": 12,
   "id": "419a1fb5",
   "metadata": {
    "execution": {
     "iopub.execute_input": "2025-05-31T16:46:05.114244Z",
     "iopub.status.busy": "2025-05-31T16:46:05.113958Z",
     "iopub.status.idle": "2025-05-31T16:46:06.567989Z",
     "shell.execute_reply": "2025-05-31T16:46:06.567052Z"
    },
    "papermill": {
     "duration": 1.461396,
     "end_time": "2025-05-31T16:46:06.569491",
     "exception": false,
     "start_time": "2025-05-31T16:46:05.108095",
     "status": "completed"
    },
    "tags": []
   },
   "outputs": [],
   "source": [
    "from sklearn.model_selection import train_test_split\n",
    "\n",
    "train, test = train_test_split(df, test_size=0.2)"
   ]
  },
  {
   "cell_type": "code",
   "execution_count": 13,
   "id": "0d77135e",
   "metadata": {
    "execution": {
     "iopub.execute_input": "2025-05-31T16:46:06.581543Z",
     "iopub.status.busy": "2025-05-31T16:46:06.580378Z",
     "iopub.status.idle": "2025-05-31T16:46:06.586894Z",
     "shell.execute_reply": "2025-05-31T16:46:06.585974Z"
    },
    "papermill": {
     "duration": 0.013703,
     "end_time": "2025-05-31T16:46:06.588217",
     "exception": false,
     "start_time": "2025-05-31T16:46:06.574514",
     "status": "completed"
    },
    "tags": []
   },
   "outputs": [
    {
     "data": {
      "text/plain": [
       "((40339, 3), (10085, 3))"
      ]
     },
     "execution_count": 13,
     "metadata": {},
     "output_type": "execute_result"
    }
   ],
   "source": [
    "train.shape, test.shape"
   ]
  },
  {
   "cell_type": "code",
   "execution_count": 14,
   "id": "b7fc8a2c",
   "metadata": {
    "execution": {
     "iopub.execute_input": "2025-05-31T16:46:06.599589Z",
     "iopub.status.busy": "2025-05-31T16:46:06.599232Z",
     "iopub.status.idle": "2025-05-31T16:46:07.795072Z",
     "shell.execute_reply": "2025-05-31T16:46:07.794098Z"
    },
    "papermill": {
     "duration": 1.203471,
     "end_time": "2025-05-31T16:46:07.796792",
     "exception": false,
     "start_time": "2025-05-31T16:46:06.593321",
     "status": "completed"
    },
    "tags": []
   },
   "outputs": [],
   "source": [
    "train.to_csv(\"ecommerce.train\", columns=[\"category_description\"], index=False, header=False)\n",
    "test.to_csv(\"ecommerce.test\", columns=[\"category_description\"], index=False, header=False)"
   ]
  },
  {
   "cell_type": "code",
   "execution_count": 15,
   "id": "ba65d9d9",
   "metadata": {
    "execution": {
     "iopub.execute_input": "2025-05-31T16:46:07.810578Z",
     "iopub.status.busy": "2025-05-31T16:46:07.810271Z",
     "iopub.status.idle": "2025-05-31T16:46:12.926885Z",
     "shell.execute_reply": "2025-05-31T16:46:12.926024Z"
    },
    "papermill": {
     "duration": 5.126357,
     "end_time": "2025-05-31T16:46:12.928379",
     "exception": false,
     "start_time": "2025-05-31T16:46:07.802022",
     "status": "completed"
    },
    "tags": []
   },
   "outputs": [
    {
     "name": "stderr",
     "output_type": "stream",
     "text": [
      "Read 4M words\n",
      "Number of words:  79296\n",
      "Number of labels: 4\n",
      "Progress: 100.0% words/sec/thread: 1951840 lr:  0.000000 avg.loss:  0.193129 ETA:   0h 0m 0s\n"
     ]
    },
    {
     "data": {
      "text/plain": [
       "(10083, 0.9685609441634434, 0.9685609441634434)"
      ]
     },
     "execution_count": 15,
     "metadata": {},
     "output_type": "execute_result"
    }
   ],
   "source": [
    "\n",
    "import fasttext\n",
    "\n",
    "model = fasttext.train_supervised(input=\"ecommerce.train\")\n",
    "model.test(\"ecommerce.test\")"
   ]
  },
  {
   "cell_type": "raw",
   "id": "b59b842e",
   "metadata": {
    "papermill": {
     "duration": 0.005602,
     "end_time": "2025-05-31T16:46:12.940065",
     "exception": false,
     "start_time": "2025-05-31T16:46:12.934463",
     "status": "completed"
    },
    "tags": []
   },
   "source": [
    "Precision : 0.96\n",
    "Recall : 0.96"
   ]
  },
  {
   "cell_type": "code",
   "execution_count": 16,
   "id": "da109383",
   "metadata": {
    "execution": {
     "iopub.execute_input": "2025-05-31T16:46:12.952901Z",
     "iopub.status.busy": "2025-05-31T16:46:12.952564Z",
     "iopub.status.idle": "2025-05-31T16:46:12.958489Z",
     "shell.execute_reply": "2025-05-31T16:46:12.957670Z"
    },
    "papermill": {
     "duration": 0.014004,
     "end_time": "2025-05-31T16:46:12.959835",
     "exception": false,
     "start_time": "2025-05-31T16:46:12.945831",
     "status": "completed"
    },
    "tags": []
   },
   "outputs": [
    {
     "data": {
      "text/plain": [
       "(('__label__electronics',), array([0.98535192]))"
      ]
     },
     "execution_count": 16,
     "metadata": {},
     "output_type": "execute_result"
    }
   ],
   "source": [
    "model.predict('wintech assemble desktop pc cpu 500 gb sata hdd 4 gb ram intel c2d processor 3')"
   ]
  },
  {
   "cell_type": "code",
   "execution_count": 17,
   "id": "5db99f19",
   "metadata": {
    "execution": {
     "iopub.execute_input": "2025-05-31T16:46:12.972962Z",
     "iopub.status.busy": "2025-05-31T16:46:12.972666Z",
     "iopub.status.idle": "2025-05-31T16:46:12.978656Z",
     "shell.execute_reply": "2025-05-31T16:46:12.977801Z"
    },
    "papermill": {
     "duration": 0.014015,
     "end_time": "2025-05-31T16:46:12.979956",
     "exception": false,
     "start_time": "2025-05-31T16:46:12.965941",
     "status": "completed"
    },
    "tags": []
   },
   "outputs": [
    {
     "data": {
      "text/plain": [
       "(('__label__clothing_accessories',), array([1.00001001]))"
      ]
     },
     "execution_count": 17,
     "metadata": {},
     "output_type": "execute_result"
    }
   ],
   "source": [
    "model.predict(\"ockey men's cotton t shirt fabric details 80 cotton 20 polyester super combed cotton rich fabric\")\n"
   ]
  },
  {
   "cell_type": "code",
   "execution_count": 18,
   "id": "31cf4b73",
   "metadata": {
    "execution": {
     "iopub.execute_input": "2025-05-31T16:46:12.993338Z",
     "iopub.status.busy": "2025-05-31T16:46:12.992828Z",
     "iopub.status.idle": "2025-05-31T16:46:12.998304Z",
     "shell.execute_reply": "2025-05-31T16:46:12.997475Z"
    },
    "papermill": {
     "duration": 0.013548,
     "end_time": "2025-05-31T16:46:12.999586",
     "exception": false,
     "start_time": "2025-05-31T16:46:12.986038",
     "status": "completed"
    },
    "tags": []
   },
   "outputs": [
    {
     "data": {
      "text/plain": [
       "(('__label__books',), array([0.99890381]))"
      ]
     },
     "execution_count": 18,
     "metadata": {},
     "output_type": "execute_result"
    }
   ],
   "source": [
    "model.predict('have you written that on the page')"
   ]
  },
  {
   "cell_type": "code",
   "execution_count": 19,
   "id": "792577e3",
   "metadata": {
    "execution": {
     "iopub.execute_input": "2025-05-31T16:46:13.013232Z",
     "iopub.status.busy": "2025-05-31T16:46:13.012698Z",
     "iopub.status.idle": "2025-05-31T16:46:13.018502Z",
     "shell.execute_reply": "2025-05-31T16:46:13.017631Z"
    },
    "papermill": {
     "duration": 0.014043,
     "end_time": "2025-05-31T16:46:13.019849",
     "exception": false,
     "start_time": "2025-05-31T16:46:13.005806",
     "status": "completed"
    },
    "tags": []
   },
   "outputs": [
    {
     "data": {
      "text/plain": [
       "(('__label__clothing_accessories',), array([0.97376454]))"
      ]
     },
     "execution_count": 19,
     "metadata": {},
     "output_type": "execute_result"
    }
   ],
   "source": [
    "model.predict('how many boys in red shirt uses mobile phone ?!!' )"
   ]
  },
  {
   "cell_type": "code",
   "execution_count": 20,
   "id": "8485692f",
   "metadata": {
    "execution": {
     "iopub.execute_input": "2025-05-31T16:46:13.033779Z",
     "iopub.status.busy": "2025-05-31T16:46:13.033194Z",
     "iopub.status.idle": "2025-05-31T16:46:13.140750Z",
     "shell.execute_reply": "2025-05-31T16:46:13.139951Z"
    },
    "papermill": {
     "duration": 0.116193,
     "end_time": "2025-05-31T16:46:13.142177",
     "exception": false,
     "start_time": "2025-05-31T16:46:13.025984",
     "status": "completed"
    },
    "tags": []
   },
   "outputs": [
    {
     "data": {
      "text/plain": [
       "[(0.9930432438850403, 'punisher'),\n",
       " (0.9925774931907654, \"buyer's\"),\n",
       " (0.9924696683883667, 'jalandhar'),\n",
       " (0.9918646812438965, \"'made\"),\n",
       " (0.9917641282081604, 'jeging'),\n",
       " (0.991267204284668, 'epobs'),\n",
       " (0.9909648299217224, 'milancho'),\n",
       " (0.9909647107124329, 'colour_free'),\n",
       " (0.990689218044281, 'urself'),\n",
       " (0.990689218044281, 'outletbrand')]"
      ]
     },
     "execution_count": 20,
     "metadata": {},
     "output_type": "execute_result"
    }
   ],
   "source": [
    "model.get_nearest_neighbors('shirts')"
   ]
  },
  {
   "cell_type": "code",
   "execution_count": null,
   "id": "89745e2d",
   "metadata": {
    "papermill": {
     "duration": 0.006016,
     "end_time": "2025-05-31T16:46:13.154753",
     "exception": false,
     "start_time": "2025-05-31T16:46:13.148737",
     "status": "completed"
    },
    "tags": []
   },
   "outputs": [],
   "source": []
  }
 ],
 "metadata": {
  "kaggle": {
   "accelerator": "none",
   "dataSources": [
    {
     "datasetId": 3477596,
     "sourceId": 6075698,
     "sourceType": "datasetVersion"
    },
    {
     "datasetId": 7561345,
     "sourceId": 12018447,
     "sourceType": "datasetVersion"
    }
   ],
   "dockerImageVersionId": 31040,
   "isGpuEnabled": false,
   "isInternetEnabled": false,
   "language": "python",
   "sourceType": "notebook"
  },
  "kernelspec": {
   "display_name": "Python 3",
   "language": "python",
   "name": "python3"
  },
  "language_info": {
   "codemirror_mode": {
    "name": "ipython",
    "version": 3
   },
   "file_extension": ".py",
   "mimetype": "text/x-python",
   "name": "python",
   "nbconvert_exporter": "python",
   "pygments_lexer": "ipython3",
   "version": "3.11.11"
  },
  "papermill": {
   "default_parameters": {},
   "duration": 19.926489,
   "end_time": "2025-05-31T16:46:13.880695",
   "environment_variables": {},
   "exception": null,
   "input_path": "__notebook__.ipynb",
   "output_path": "__notebook__.ipynb",
   "parameters": {},
   "start_time": "2025-05-31T16:45:53.954206",
   "version": "2.6.0"
  }
 },
 "nbformat": 4,
 "nbformat_minor": 5
}
